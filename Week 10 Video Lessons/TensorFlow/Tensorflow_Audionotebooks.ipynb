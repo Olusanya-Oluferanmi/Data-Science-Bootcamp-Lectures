{
 "cells": [
  {
   "cell_type": "markdown",
   "id": "3cc48fa1-1ef7-49ce-88a9-ac2061672987",
   "metadata": {},
   "source": [
    "## Week 10: Day 3 – Business Case "
   ]
  },
  {
   "cell_type": "markdown",
   "id": "8632c13a-40bd-4a94-8eb1-7ffb574d47bd",
   "metadata": {},
   "source": [
    "### Pratical Examples.Audiobooks"
   ]
  },
  {
   "cell_type": "markdown",
   "id": "06d544ca-1400-405a-af90-957825ea9054",
   "metadata": {},
   "source": [
    "1. preprocess the data\n",
    "2. balance the dataset\n",
    "3. create three dataset(training,validation and test)\n",
    "4. save the newly created sets in a tensor friendly formats (e.g npz)"
   ]
  },
  {
   "cell_type": "markdown",
   "id": "f1370246-34b2-410d-8798-603fd3294669",
   "metadata": {},
   "source": [
    "#### Extract the data from the CSV"
   ]
  },
  {
   "cell_type": "code",
   "execution_count": 1,
   "id": "94feee40-14f0-44f1-993a-a04fc8357c22",
   "metadata": {},
   "outputs": [],
   "source": [
    "# import the neccessary packages\n",
    "import numpy as np\n",
    "from sklearn import preprocessing\n",
    "\n",
    "raw_csv_data = np.loadtxt('Audiobooks_data.csv' , delimiter = ',')\n",
    "# The inputs are all columns in the csv, except for the first one [:,0] (which is just the arbitrary customer IDs that bear no useful information),\n",
    "# and the last one [:,-1] (which is our targets\n",
    "unscaled_inputs_all = raw_csv_data[:,1:-1]\n",
    "# The targets are in the last column. That's how datasets are conventionally organized.\n",
    "targets_all = raw_csv_data[:,-1]"
   ]
  },
  {
   "cell_type": "markdown",
   "id": "b4db11dd-04a5-4cb6-b5cc-8c97e5f675bd",
   "metadata": {},
   "source": [
    "#### Balancing the dataset"
   ]
  },
  {
   "cell_type": "code",
   "execution_count": 2,
   "id": "ed825218-6ed2-46ba-bddf-aaa73f338b88",
   "metadata": {},
   "outputs": [],
   "source": [
    "num_one_targets = int(np.sum(targets_all)) # count how many targets are 1\n",
    "zero_targets_count = 0 # counter for target 0\n",
    "indices_to_remove = [] # remove extra input/target pairs for balance\n",
    "\n",
    "# count the number of targets 0, when get same amount of target 1 and 0, make entries where target is zero\n",
    "for i in range(targets_all.shape[0]):\n",
    "    if targets_all[i] == 0:\n",
    "        zero_targets_count += 1\n",
    "        if zero_targets_count > num_one_targets :\n",
    "            indices_to_remove.append(i)\n",
    "            \n",
    "# Create two new variables, one that will contain the inputs, and one that will contain the targets.\n",
    "# We delete all indices that we marked \"to remove\" in the loop above.\n",
    "unscaled_inputs_equal_priors = np.delete(unscaled_inputs_all,indices_to_remove,axis = 0)\n",
    "targets_equal_priors = np.delete(targets_all,indices_to_remove,axis = 0)            "
   ]
  },
  {
   "cell_type": "markdown",
   "id": "6d3f0768-cb5a-4c2c-9794-f5cbf881d134",
   "metadata": {},
   "source": [
    "#### Standardizing the inputs"
   ]
  },
  {
   "cell_type": "code",
   "execution_count": 3,
   "id": "df2bb985-8d96-4afa-91b1-eb89561ec33e",
   "metadata": {},
   "outputs": [],
   "source": [
    "scaled_inputs = preprocessing.scale(unscaled_inputs_equal_priors)"
   ]
  },
  {
   "cell_type": "markdown",
   "id": "3f6cfda3-e1f5-46ba-8f7b-eb0ce487aa34",
   "metadata": {},
   "source": [
    "#### Shuffle the data"
   ]
  },
  {
   "cell_type": "code",
   "execution_count": 4,
   "id": "ae0e80dc-ad8b-4e05-937e-8581aa943016",
   "metadata": {},
   "outputs": [],
   "source": [
    "# When the data was collected it was actually arranged by date\n",
    "# Shuffle the indices of the data, so the data is not arranged in any way when we feed it.\n",
    "# Since we will be batching, we want the data to be as randomly spread out as possible\n",
    "shuffled_indices = np.arange(scaled_inputs.shape[0])\n",
    "np.random.shuffle(shuffled_indices)\n",
    "\n",
    "# Use the shuffled indices to shuffle the inputs and targets.\n",
    "shuffled_inputs = scaled_inputs[shuffled_indices]\n",
    "shuffled_targets = targets_equal_priors[shuffled_indices]"
   ]
  },
  {
   "cell_type": "markdown",
   "id": "e7f35347-ecaa-44d0-9e49-2fecd1e682fe",
   "metadata": {},
   "source": [
    "#### Split the dataset into training , validation and testing dataset"
   ]
  },
  {
   "cell_type": "code",
   "execution_count": 5,
   "id": "2a368e7a-759f-48ca-9016-ffe5c19ea623",
   "metadata": {},
   "outputs": [
    {
     "name": "stdout",
     "output_type": "stream",
     "text": [
      "1794.0 3579 0.501257334450964\n",
      "226.0 447 0.5055928411633109\n",
      "217.0 448 0.484375\n"
     ]
    }
   ],
   "source": [
    "#count the total number of samples\n",
    "sample_count = shuffled_inputs.shape[0]\n",
    "\n",
    "# Count the samples in each subset, assuming we want 80-10-10 distribution of training, validation, and test.\n",
    "# Naturally, the numbers are integers.\n",
    "train_sample_count = int(0.8 * sample_count)\n",
    "validation_sample_count = int(0.1 * sample_count)\n",
    "\n",
    "# The 'test' dataset contains all remaining data.\n",
    "test_sample_count = sample_count - train_sample_count - validation_sample_count\n",
    "\n",
    "# Create variables that record the inputs and targets for training\n",
    "# In our shuffled dataset, they are the first \"train_samples_count\" observations\n",
    "train_inputs = shuffled_inputs[:train_sample_count]\n",
    "train_targets = shuffled_targets[:train_sample_count]\n",
    "\n",
    "# Create variables that record the inputs and targets for validation.\n",
    "# They are the next \"validation_samples_count\" observations, folllowing the \"train_samples_count\" we already assigned\n",
    "validation_inputs = shuffled_inputs[train_sample_count:train_sample_count + validation_sample_count]\n",
    "validation_targets = shuffled_targets[train_sample_count:train_sample_count + validation_sample_count]\n",
    "\n",
    "# Create variables that record the inputs and targets for test.\n",
    "# They are everything that is remaining.\n",
    "test_inputs = shuffled_inputs[train_sample_count + validation_sample_count:]\n",
    "test_targets = shuffled_targets[train_sample_count + validation_sample_count:]\n",
    "\n",
    "# Print the number of targets that are 1s, the total number of samples, and the proportion for training, validation, and test.\n",
    "print(np.sum(train_targets),train_sample_count,np.sum(train_targets)/train_sample_count)\n",
    "print(np.sum(validation_targets),validation_sample_count, np.sum(validation_targets)/validation_sample_count)\n",
    "print(np.sum(test_targets),test_sample_count, np.sum(test_targets)/test_sample_count)"
   ]
  },
  {
   "cell_type": "markdown",
   "id": "1bfbf72c-5b24-4955-918c-b363c858ebb4",
   "metadata": {},
   "source": [
    "#### Save the three datasets in *.npz format"
   ]
  },
  {
   "cell_type": "code",
   "execution_count": 6,
   "id": "f757b98b-4858-4130-9ebc-f365923faa53",
   "metadata": {},
   "outputs": [],
   "source": [
    "np.savez('Audiobooks_data_train',inputs = train_inputs, targets = train_targets)\n",
    "np.savez('Audiobooks_data_validation',inputs = validation_inputs, targets = validation_targets)\n",
    "np.savez('Audiobooks_data_test',inputs = test_inputs, targets = test_targets)"
   ]
  },
  {
   "cell_type": "code",
   "execution_count": null,
   "id": "f439c7e1-72b9-4bc6-aabe-7c3ca057dbdb",
   "metadata": {},
   "outputs": [],
   "source": []
  }
 ],
 "metadata": {
  "kernelspec": {
   "display_name": "Python 3 (ipykernel)",
   "language": "python",
   "name": "python3"
  },
  "language_info": {
   "codemirror_mode": {
    "name": "ipython",
    "version": 3
   },
   "file_extension": ".py",
   "mimetype": "text/x-python",
   "name": "python",
   "nbconvert_exporter": "python",
   "pygments_lexer": "ipython3",
   "version": "3.9.13"
  }
 },
 "nbformat": 4,
 "nbformat_minor": 5
}
