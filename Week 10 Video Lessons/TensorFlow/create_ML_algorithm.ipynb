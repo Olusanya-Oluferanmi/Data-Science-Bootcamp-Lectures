{
 "cells": [
  {
   "cell_type": "markdown",
   "id": "a309c099-3db5-4e3d-96e9-ef8ebaa3fb66",
   "metadata": {},
   "source": [
    "## Week 10: Day 3 – Business Case "
   ]
  },
  {
   "cell_type": "markdown",
   "id": "f97e217d-d7a3-4547-abc3-6707992ec6c6",
   "metadata": {
    "tags": []
   },
   "source": [
    "### Create machine learning algorithm\n",
    "\n",
    "#### import relevant libraries"
   ]
  },
  {
   "cell_type": "code",
   "execution_count": 1,
   "id": "9e9109da-23af-4c9c-9a75-5228b811635e",
   "metadata": {},
   "outputs": [],
   "source": [
    "import numpy as np\n",
    "import tensorflow as tf\n",
    "\n",
    "import warnings\n",
    "warnings.filterwarnings('ignore')\n",
    "warnings.simplefilter('ignore')"
   ]
  },
  {
   "cell_type": "markdown",
   "id": "9a8d2333-8df1-41f4-9b71-f2d1ce1a190e",
   "metadata": {},
   "source": [
    "### load data"
   ]
  },
  {
   "cell_type": "code",
   "execution_count": 2,
   "id": "af974252-def0-4962-9211-1c4e8a2d47b3",
   "metadata": {},
   "outputs": [],
   "source": [
    "# let's create a temporary variable npz, where we will store each of the three Audiobooks datasets\n",
    "npz = np.load('Audiobooks_data_train.npz')\n",
    "\n",
    "# we extract the inputs using the keyword under which we saved them to ensure that they are all floats, let's also take care of that\n",
    "train_inputs = npz['inputs'].astype(np.float)\n",
    "# targets must be int because of sparse_categorical_crossentropy (we want to be able to smoothly one-hot encode them)\n",
    "train_targets = npz['targets'].astype(np.int)\n",
    "\n",
    "# we load the validation data in the temporary variable\n",
    "npz = np.load('Audiobooks_data_validation.npz')\n",
    "# we can load the inputs and the targets\n",
    "validation_inputs = npz['inputs'].astype(np.float)\n",
    "validation_targets = npz['targets'].astype(np.int)\n",
    "\n",
    "# we load the test data in the temporary variable\n",
    "npz = np.load('Audiobooks_data_test.npz')\n",
    "# we create 2 variables that will contain the test inputs and the test targets\n",
    "test_inputs = npz['inputs'].astype(np.float)\n",
    "test_targets = npz['targets'].astype(np.int)"
   ]
  },
  {
   "cell_type": "markdown",
   "id": "bac7cb4d-632a-4803-99c6-74e4a3278056",
   "metadata": {},
   "source": [
    "# building the model"
   ]
  },
  {
   "cell_type": "code",
   "execution_count": 4,
   "id": "75da9981-71cd-4bc4-8263-49fa678f7aa4",
   "metadata": {
    "scrolled": true,
    "tags": []
   },
   "outputs": [
    {
     "name": "stdout",
     "output_type": "stream",
     "text": [
      "Epoch 1/100\n",
      "36/36 - 4s - loss: 0.6076 - accuracy: 0.6703 - val_loss: 0.5200 - val_accuracy: 0.7226\n",
      "Epoch 2/100\n",
      "36/36 - 0s - loss: 0.4724 - accuracy: 0.7614 - val_loss: 0.4414 - val_accuracy: 0.7718\n",
      "Epoch 3/100\n",
      "36/36 - 0s - loss: 0.4145 - accuracy: 0.7854 - val_loss: 0.4132 - val_accuracy: 0.7852\n",
      "Epoch 4/100\n",
      "36/36 - 0s - loss: 0.3874 - accuracy: 0.7930 - val_loss: 0.3963 - val_accuracy: 0.7875\n",
      "Epoch 5/100\n",
      "36/36 - 0s - loss: 0.3720 - accuracy: 0.8058 - val_loss: 0.3921 - val_accuracy: 0.7987\n",
      "Epoch 6/100\n",
      "36/36 - 0s - loss: 0.3631 - accuracy: 0.8055 - val_loss: 0.3917 - val_accuracy: 0.7830\n",
      "Epoch 7/100\n",
      "36/36 - 0s - loss: 0.3579 - accuracy: 0.8044 - val_loss: 0.3810 - val_accuracy: 0.7919\n",
      "Epoch 8/100\n",
      "36/36 - 0s - loss: 0.3507 - accuracy: 0.8106 - val_loss: 0.3781 - val_accuracy: 0.7919\n",
      "Epoch 9/100\n",
      "36/36 - 0s - loss: 0.3440 - accuracy: 0.8125 - val_loss: 0.3975 - val_accuracy: 0.7562\n",
      "Epoch 10/100\n",
      "36/36 - 0s - loss: 0.3440 - accuracy: 0.8148 - val_loss: 0.3705 - val_accuracy: 0.8031\n",
      "Epoch 11/100\n",
      "36/36 - 0s - loss: 0.3409 - accuracy: 0.8128 - val_loss: 0.3800 - val_accuracy: 0.7964\n",
      "Epoch 12/100\n",
      "36/36 - 0s - loss: 0.3370 - accuracy: 0.8220 - val_loss: 0.3755 - val_accuracy: 0.7919\n",
      "Epoch 13/100\n",
      "36/36 - 0s - loss: 0.3349 - accuracy: 0.8234 - val_loss: 0.3678 - val_accuracy: 0.7942\n",
      "Epoch 14/100\n",
      "36/36 - 0s - loss: 0.3343 - accuracy: 0.8181 - val_loss: 0.3622 - val_accuracy: 0.8166\n",
      "Epoch 15/100\n",
      "36/36 - 0s - loss: 0.3331 - accuracy: 0.8212 - val_loss: 0.3697 - val_accuracy: 0.8009\n",
      "Epoch 16/100\n",
      "36/36 - 0s - loss: 0.3326 - accuracy: 0.8184 - val_loss: 0.3606 - val_accuracy: 0.8166\n",
      "Epoch 17/100\n",
      "36/36 - 0s - loss: 0.3259 - accuracy: 0.8240 - val_loss: 0.3641 - val_accuracy: 0.8076\n",
      "Epoch 18/100\n",
      "36/36 - 0s - loss: 0.3267 - accuracy: 0.8229 - val_loss: 0.3831 - val_accuracy: 0.7919\n",
      "Epoch 19/100\n",
      "36/36 - 0s - loss: 0.3267 - accuracy: 0.8287 - val_loss: 0.3615 - val_accuracy: 0.8076\n",
      "Epoch 20/100\n",
      "36/36 - 0s - loss: 0.3236 - accuracy: 0.8270 - val_loss: 0.3738 - val_accuracy: 0.7875\n",
      "Epoch 21/100\n",
      "36/36 - 0s - loss: 0.3230 - accuracy: 0.8290 - val_loss: 0.3576 - val_accuracy: 0.8233\n",
      "Epoch 22/100\n",
      "36/36 - 0s - loss: 0.3216 - accuracy: 0.8226 - val_loss: 0.3613 - val_accuracy: 0.8143\n",
      "Epoch 23/100\n",
      "36/36 - 0s - loss: 0.3226 - accuracy: 0.8215 - val_loss: 0.3643 - val_accuracy: 0.8188\n",
      "Epoch 24/100\n",
      "36/36 - 0s - loss: 0.3198 - accuracy: 0.8254 - val_loss: 0.3589 - val_accuracy: 0.8233\n",
      "Epoch 25/100\n",
      "36/36 - 0s - loss: 0.3236 - accuracy: 0.8256 - val_loss: 0.3674 - val_accuracy: 0.8143\n",
      "Epoch 26/100\n",
      "36/36 - 0s - loss: 0.3238 - accuracy: 0.8217 - val_loss: 0.3511 - val_accuracy: 0.8255\n",
      "Epoch 27/100\n",
      "36/36 - 0s - loss: 0.3178 - accuracy: 0.8279 - val_loss: 0.3602 - val_accuracy: 0.8054\n",
      "Epoch 28/100\n",
      "36/36 - 0s - loss: 0.3197 - accuracy: 0.8293 - val_loss: 0.3601 - val_accuracy: 0.8054\n",
      "Epoch 29/100\n",
      "36/36 - 0s - loss: 0.3183 - accuracy: 0.8256 - val_loss: 0.3684 - val_accuracy: 0.8188\n",
      "Epoch 30/100\n",
      "36/36 - 0s - loss: 0.3205 - accuracy: 0.8282 - val_loss: 0.3707 - val_accuracy: 0.8031\n",
      "Epoch 31/100\n",
      "36/36 - 0s - loss: 0.3205 - accuracy: 0.8209 - val_loss: 0.3523 - val_accuracy: 0.8188\n",
      "Epoch 32/100\n",
      "36/36 - 0s - loss: 0.3161 - accuracy: 0.8293 - val_loss: 0.3465 - val_accuracy: 0.8233\n",
      "Epoch 33/100\n",
      "36/36 - 0s - loss: 0.3172 - accuracy: 0.8270 - val_loss: 0.3537 - val_accuracy: 0.8210\n",
      "Epoch 34/100\n",
      "36/36 - 0s - loss: 0.3140 - accuracy: 0.8321 - val_loss: 0.3657 - val_accuracy: 0.8031\n",
      "Epoch 35/100\n",
      "36/36 - 0s - loss: 0.3152 - accuracy: 0.8332 - val_loss: 0.3593 - val_accuracy: 0.8233\n",
      "Epoch 36/100\n",
      "36/36 - 0s - loss: 0.3137 - accuracy: 0.8307 - val_loss: 0.3547 - val_accuracy: 0.8098\n",
      "Epoch 37/100\n",
      "36/36 - 0s - loss: 0.3121 - accuracy: 0.8262 - val_loss: 0.3480 - val_accuracy: 0.8210\n",
      "Epoch 38/100\n",
      "36/36 - 0s - loss: 0.3123 - accuracy: 0.8276 - val_loss: 0.3521 - val_accuracy: 0.8322\n",
      "Epoch 39/100\n",
      "36/36 - 0s - loss: 0.3191 - accuracy: 0.8220 - val_loss: 0.3728 - val_accuracy: 0.8031\n",
      "Epoch 40/100\n",
      "36/36 - 0s - loss: 0.3139 - accuracy: 0.8254 - val_loss: 0.3620 - val_accuracy: 0.8143\n",
      "Epoch 41/100\n",
      "36/36 - 0s - loss: 0.3134 - accuracy: 0.8284 - val_loss: 0.3734 - val_accuracy: 0.7852\n",
      "Epoch 42/100\n",
      "36/36 - 0s - loss: 0.3121 - accuracy: 0.8298 - val_loss: 0.3465 - val_accuracy: 0.8210\n",
      "Epoch 43/100\n",
      "36/36 - 0s - loss: 0.3119 - accuracy: 0.8273 - val_loss: 0.3473 - val_accuracy: 0.8322\n",
      "Epoch 44/100\n",
      "36/36 - 0s - loss: 0.3140 - accuracy: 0.8290 - val_loss: 0.3554 - val_accuracy: 0.8188\n",
      "Epoch 45/100\n",
      "36/36 - 0s - loss: 0.3106 - accuracy: 0.8284 - val_loss: 0.3452 - val_accuracy: 0.8210\n",
      "Epoch 46/100\n",
      "36/36 - 0s - loss: 0.3108 - accuracy: 0.8268 - val_loss: 0.3502 - val_accuracy: 0.8210\n",
      "Epoch 47/100\n",
      "36/36 - 0s - loss: 0.3114 - accuracy: 0.8296 - val_loss: 0.3441 - val_accuracy: 0.8277\n",
      "Epoch 48/100\n",
      "36/36 - 0s - loss: 0.3085 - accuracy: 0.8351 - val_loss: 0.3535 - val_accuracy: 0.8076\n",
      "Epoch 49/100\n",
      "36/36 - 0s - loss: 0.3084 - accuracy: 0.8312 - val_loss: 0.3453 - val_accuracy: 0.8277\n",
      "Epoch 50/100\n",
      "36/36 - 0s - loss: 0.3116 - accuracy: 0.8273 - val_loss: 0.3551 - val_accuracy: 0.8009\n",
      "Epoch 51/100\n",
      "36/36 - 0s - loss: 0.3101 - accuracy: 0.8310 - val_loss: 0.3521 - val_accuracy: 0.8143\n",
      "Epoch 52/100\n",
      "36/36 - 0s - loss: 0.3096 - accuracy: 0.8326 - val_loss: 0.3433 - val_accuracy: 0.8188\n",
      "Epoch 53/100\n",
      "36/36 - 0s - loss: 0.3089 - accuracy: 0.8304 - val_loss: 0.3475 - val_accuracy: 0.8233\n",
      "Epoch 54/100\n",
      "36/36 - 0s - loss: 0.3082 - accuracy: 0.8318 - val_loss: 0.3498 - val_accuracy: 0.8098\n",
      "Epoch 55/100\n",
      "36/36 - 0s - loss: 0.3105 - accuracy: 0.8301 - val_loss: 0.3437 - val_accuracy: 0.8098\n",
      "Epoch 56/100\n",
      "36/36 - 0s - loss: 0.3108 - accuracy: 0.8262 - val_loss: 0.3502 - val_accuracy: 0.8188\n",
      "Epoch 57/100\n",
      "36/36 - 0s - loss: 0.3073 - accuracy: 0.8343 - val_loss: 0.3587 - val_accuracy: 0.8143\n",
      "Epoch 58/100\n",
      "36/36 - 0s - loss: 0.3114 - accuracy: 0.8296 - val_loss: 0.3551 - val_accuracy: 0.8054\n",
      "Epoch 59/100\n",
      "36/36 - 0s - loss: 0.3070 - accuracy: 0.8351 - val_loss: 0.3594 - val_accuracy: 0.8009\n",
      "Epoch 60/100\n",
      "36/36 - 0s - loss: 0.3071 - accuracy: 0.8346 - val_loss: 0.3603 - val_accuracy: 0.8166\n",
      "Epoch 61/100\n",
      "36/36 - 0s - loss: 0.3132 - accuracy: 0.8237 - val_loss: 0.3508 - val_accuracy: 0.8255\n",
      "Epoch 62/100\n",
      "36/36 - 0s - loss: 0.3057 - accuracy: 0.8340 - val_loss: 0.3460 - val_accuracy: 0.8166\n",
      "Epoch 63/100\n",
      "36/36 - 0s - loss: 0.3070 - accuracy: 0.8329 - val_loss: 0.3409 - val_accuracy: 0.8345\n",
      "Epoch 64/100\n",
      "36/36 - 0s - loss: 0.3102 - accuracy: 0.8312 - val_loss: 0.3483 - val_accuracy: 0.8143\n",
      "Epoch 65/100\n",
      "36/36 - 0s - loss: 0.3073 - accuracy: 0.8321 - val_loss: 0.3444 - val_accuracy: 0.8255\n",
      "Epoch 66/100\n",
      "36/36 - 0s - loss: 0.3089 - accuracy: 0.8276 - val_loss: 0.3500 - val_accuracy: 0.8121\n",
      "Epoch 67/100\n",
      "36/36 - 0s - loss: 0.3071 - accuracy: 0.8377 - val_loss: 0.3459 - val_accuracy: 0.8143\n",
      "Epoch 68/100\n",
      "36/36 - 0s - loss: 0.3091 - accuracy: 0.8290 - val_loss: 0.3510 - val_accuracy: 0.8322\n",
      "Epoch 69/100\n",
      "36/36 - 0s - loss: 0.3091 - accuracy: 0.8321 - val_loss: 0.3542 - val_accuracy: 0.8098\n",
      "Epoch 70/100\n",
      "36/36 - 0s - loss: 0.3058 - accuracy: 0.8304 - val_loss: 0.3617 - val_accuracy: 0.8054\n",
      "Epoch 71/100\n",
      "36/36 - 0s - loss: 0.3103 - accuracy: 0.8273 - val_loss: 0.3544 - val_accuracy: 0.8009\n",
      "Epoch 72/100\n",
      "36/36 - 0s - loss: 0.3163 - accuracy: 0.8201 - val_loss: 0.3367 - val_accuracy: 0.8277\n",
      "Epoch 73/100\n",
      "36/36 - 0s - loss: 0.3111 - accuracy: 0.8293 - val_loss: 0.3519 - val_accuracy: 0.8031\n",
      "Epoch 74/100\n",
      "36/36 - 0s - loss: 0.3067 - accuracy: 0.8287 - val_loss: 0.3508 - val_accuracy: 0.8210\n",
      "Epoch 75/100\n",
      "36/36 - 0s - loss: 0.3083 - accuracy: 0.8290 - val_loss: 0.3435 - val_accuracy: 0.8277\n",
      "Epoch 76/100\n",
      "36/36 - 0s - loss: 0.3054 - accuracy: 0.8287 - val_loss: 0.3424 - val_accuracy: 0.8210\n",
      "Epoch 77/100\n",
      "36/36 - 0s - loss: 0.3055 - accuracy: 0.8304 - val_loss: 0.3408 - val_accuracy: 0.8255\n",
      "Epoch 78/100\n",
      "36/36 - 0s - loss: 0.3039 - accuracy: 0.8340 - val_loss: 0.3466 - val_accuracy: 0.8277\n",
      "Epoch 79/100\n",
      "36/36 - 0s - loss: 0.3059 - accuracy: 0.8346 - val_loss: 0.3546 - val_accuracy: 0.8121\n",
      "Epoch 80/100\n",
      "36/36 - 0s - loss: 0.3062 - accuracy: 0.8304 - val_loss: 0.3599 - val_accuracy: 0.8121\n",
      "Epoch 81/100\n",
      "36/36 - 0s - loss: 0.3050 - accuracy: 0.8310 - val_loss: 0.3588 - val_accuracy: 0.8098\n",
      "Epoch 82/100\n",
      "36/36 - 0s - loss: 0.3038 - accuracy: 0.8349 - val_loss: 0.3378 - val_accuracy: 0.8255\n",
      "Epoch 83/100\n",
      "36/36 - 0s - loss: 0.3062 - accuracy: 0.8315 - val_loss: 0.3519 - val_accuracy: 0.8121\n",
      "Epoch 84/100\n",
      "36/36 - 0s - loss: 0.3036 - accuracy: 0.8326 - val_loss: 0.3516 - val_accuracy: 0.8188\n",
      "Epoch 85/100\n",
      "36/36 - 0s - loss: 0.3043 - accuracy: 0.8338 - val_loss: 0.3430 - val_accuracy: 0.8188\n",
      "Epoch 86/100\n",
      "36/36 - 0s - loss: 0.3088 - accuracy: 0.8259 - val_loss: 0.3347 - val_accuracy: 0.8188\n",
      "Epoch 87/100\n",
      "36/36 - 0s - loss: 0.3060 - accuracy: 0.8354 - val_loss: 0.3565 - val_accuracy: 0.8143\n",
      "Epoch 88/100\n",
      "36/36 - 0s - loss: 0.3035 - accuracy: 0.8312 - val_loss: 0.3443 - val_accuracy: 0.8233\n",
      "Epoch 89/100\n",
      "36/36 - 0s - loss: 0.3062 - accuracy: 0.8315 - val_loss: 0.3633 - val_accuracy: 0.8143\n",
      "Epoch 90/100\n",
      "36/36 - 0s - loss: 0.3083 - accuracy: 0.8326 - val_loss: 0.3398 - val_accuracy: 0.8255\n",
      "Epoch 91/100\n",
      "36/36 - 0s - loss: 0.3028 - accuracy: 0.8351 - val_loss: 0.3388 - val_accuracy: 0.8233\n",
      "Epoch 92/100\n",
      "36/36 - 0s - loss: 0.3028 - accuracy: 0.8329 - val_loss: 0.3461 - val_accuracy: 0.8143\n",
      "Epoch 93/100\n",
      "36/36 - 0s - loss: 0.3020 - accuracy: 0.8315 - val_loss: 0.3535 - val_accuracy: 0.8188\n",
      "Epoch 94/100\n",
      "36/36 - 0s - loss: 0.3043 - accuracy: 0.8326 - val_loss: 0.3408 - val_accuracy: 0.8166\n",
      "Epoch 95/100\n",
      "36/36 - 0s - loss: 0.3063 - accuracy: 0.8245 - val_loss: 0.3418 - val_accuracy: 0.8255\n",
      "Epoch 96/100\n",
      "36/36 - 0s - loss: 0.3019 - accuracy: 0.8388 - val_loss: 0.3473 - val_accuracy: 0.8277\n",
      "Epoch 97/100\n",
      "36/36 - 0s - loss: 0.3033 - accuracy: 0.8377 - val_loss: 0.3377 - val_accuracy: 0.8300\n",
      "Epoch 98/100\n",
      "36/36 - 0s - loss: 0.3057 - accuracy: 0.8290 - val_loss: 0.3304 - val_accuracy: 0.8300\n",
      "Epoch 99/100\n",
      "36/36 - 0s - loss: 0.3032 - accuracy: 0.8296 - val_loss: 0.3569 - val_accuracy: 0.8121\n",
      "Epoch 100/100\n",
      "36/36 - 0s - loss: 0.3015 - accuracy: 0.8340 - val_loss: 0.3455 - val_accuracy: 0.8255\n"
     ]
    },
    {
     "data": {
      "text/plain": [
       "<keras.callbacks.History at 0x20685f19ee0>"
      ]
     },
     "execution_count": 4,
     "metadata": {},
     "output_type": "execute_result"
    }
   ],
   "source": [
    "# Set the input and output sizes\n",
    "input_size = 10\n",
    "output_size = 2\n",
    "# Use same hidden layer size for both hidden layers. Not a necessity.\n",
    "hidden_layer_size = 50\n",
    "\n",
    "# define how the model will look like\n",
    "model = tf.keras.Sequential([\n",
    "    tf.keras.layers.Dense(hidden_layer_size, activation='relu'),\n",
    "    tf.keras.layers.Dense(hidden_layer_size, activation='relu'),\n",
    "    tf.keras.layers.Dense(output_size, activation='softmax')\n",
    "])\n",
    "\n",
    "# Choose the optimizer and the loss function\n",
    "model.compile(optimizer='adam', loss='sparse_categorical_crossentropy', metrics=['accuracy'])\n",
    "\n",
    "# Training : That's where we train the model we have built.\n",
    "\n",
    "# set the batch size\n",
    "batch_size = 100\n",
    "\n",
    "# set a maximum number of training epochs\n",
    "max_epochs = 100\n",
    "\n",
    "# fit the model\n",
    "model.fit(\n",
    "         train_inputs, \n",
    "         train_targets,\n",
    "         batch_size=batch_size,\n",
    "         epochs=max_epochs,\n",
    "         validation_data=(validation_inputs, validation_targets),\n",
    "         verbose=2\n",
    "         )"
   ]
  },
  {
   "cell_type": "code",
   "execution_count": 5,
   "id": "e25c434f-c5d2-434e-9195-fc63f5b99279",
   "metadata": {
    "scrolled": true,
    "tags": []
   },
   "outputs": [
    {
     "name": "stdout",
     "output_type": "stream",
     "text": [
      "Epoch 1/100\n",
      "36/36 - 1s - loss: 0.5915 - accuracy: 0.6887 - val_loss: 0.5144 - val_accuracy: 0.7427\n",
      "Epoch 2/100\n",
      "36/36 - 0s - loss: 0.4638 - accuracy: 0.7670 - val_loss: 0.4437 - val_accuracy: 0.7584\n",
      "Epoch 3/100\n",
      "36/36 - 0s - loss: 0.4159 - accuracy: 0.7790 - val_loss: 0.4127 - val_accuracy: 0.7808\n",
      "Epoch 4/100\n",
      "36/36 - 0s - loss: 0.3876 - accuracy: 0.8030 - val_loss: 0.3949 - val_accuracy: 0.7942\n",
      "Epoch 5/100\n",
      "36/36 - 0s - loss: 0.3701 - accuracy: 0.8094 - val_loss: 0.3955 - val_accuracy: 0.7897\n",
      "Epoch 6/100\n",
      "36/36 - 0s - loss: 0.3615 - accuracy: 0.8050 - val_loss: 0.3858 - val_accuracy: 0.7942\n",
      "Epoch 7/100\n",
      "36/36 - 0s - loss: 0.3540 - accuracy: 0.8139 - val_loss: 0.3906 - val_accuracy: 0.7852\n",
      "Epoch 8/100\n",
      "36/36 - 0s - loss: 0.3496 - accuracy: 0.8131 - val_loss: 0.3718 - val_accuracy: 0.7942\n",
      "Epoch 9/100\n",
      "36/36 - 0s - loss: 0.3440 - accuracy: 0.8150 - val_loss: 0.3668 - val_accuracy: 0.8054\n",
      "Epoch 10/100\n",
      "36/36 - 0s - loss: 0.3411 - accuracy: 0.8173 - val_loss: 0.3728 - val_accuracy: 0.7875\n",
      "Epoch 11/100\n",
      "36/36 - 0s - loss: 0.3402 - accuracy: 0.8187 - val_loss: 0.3760 - val_accuracy: 0.7830\n"
     ]
    },
    {
     "data": {
      "text/plain": [
       "<keras.callbacks.History at 0x206873f98b0>"
      ]
     },
     "execution_count": 5,
     "metadata": {},
     "output_type": "execute_result"
    }
   ],
   "source": [
    "# Set the input and output sizes\n",
    "input_size = 10\n",
    "output_size = 2\n",
    "# Use same hidden layer size for both hidden layers. Not a necessity.\n",
    "hidden_layer_size = 50\n",
    "\n",
    "# define how the model will look like\n",
    "model = tf.keras.Sequential([\n",
    "    tf.keras.layers.Dense(hidden_layer_size, activation='relu'),\n",
    "    tf.keras.layers.Dense(hidden_layer_size, activation='relu'),\n",
    "    tf.keras.layers.Dense(output_size, activation='softmax')\n",
    "])\n",
    "\n",
    "# Choose the optimizer and the loss function\n",
    "model.compile(optimizer='adam', loss='sparse_categorical_crossentropy', metrics=['accuracy'])\n",
    "\n",
    "# Training : That's where we train the model we have built.\n",
    "\n",
    "# set the batch size\n",
    "batch_size = 100\n",
    "\n",
    "# set a maximum number of training epochs\n",
    "max_epochs = 100\n",
    "\n",
    "# set an early stopping mechanism\n",
    "early_stopping = tf.keras.callbacks.EarlyStopping(patience=2)\n",
    "\n",
    "# fit the model\n",
    "model.fit(\n",
    "         train_inputs, \n",
    "         train_targets,\n",
    "         batch_size=batch_size,\n",
    "         epochs=max_epochs,\n",
    "         callbacks=[early_stopping],\n",
    "         validation_data=(validation_inputs, validation_targets),\n",
    "         verbose=2\n",
    "         )"
   ]
  },
  {
   "cell_type": "markdown",
   "id": "7fbcde02-b003-45d3-8d30-3bcda4b8f930",
   "metadata": {},
   "source": [
    "### Test the model"
   ]
  },
  {
   "cell_type": "code",
   "execution_count": 6,
   "id": "1e542bff-19a8-451c-b031-df4bbe163211",
   "metadata": {},
   "outputs": [
    {
     "name": "stdout",
     "output_type": "stream",
     "text": [
      "14/14 [==============================] - 0s 1ms/step - loss: 0.3801 - accuracy: 0.7768\n"
     ]
    }
   ],
   "source": [
    "test_loss, test_accuracy = model.evaluate(test_inputs, test_targets)"
   ]
  },
  {
   "cell_type": "code",
   "execution_count": 7,
   "id": "5a44b652-bb74-4a59-b17d-58282d299b1b",
   "metadata": {},
   "outputs": [
    {
     "name": "stdout",
     "output_type": "stream",
     "text": [
      "\n",
      "Test loss : 0.38. Test accuracy : 77.68%\n"
     ]
    }
   ],
   "source": [
    "print('\\nTest loss : {0:.2f}. Test accuracy : {1:.2f}%' . format(test_loss,test_accuracy * 100))"
   ]
  },
  {
   "cell_type": "code",
   "execution_count": null,
   "id": "17847256-a1ca-4ea5-b57c-eadc7a68092a",
   "metadata": {},
   "outputs": [],
   "source": []
  }
 ],
 "metadata": {
  "kernelspec": {
   "display_name": "Python 3 (ipykernel)",
   "language": "python",
   "name": "python3"
  },
  "language_info": {
   "codemirror_mode": {
    "name": "ipython",
    "version": 3
   },
   "file_extension": ".py",
   "mimetype": "text/x-python",
   "name": "python",
   "nbconvert_exporter": "python",
   "pygments_lexer": "ipython3",
   "version": "3.9.13"
  }
 },
 "nbformat": 4,
 "nbformat_minor": 5
}
