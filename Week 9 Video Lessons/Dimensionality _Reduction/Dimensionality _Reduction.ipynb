{
 "cells": [
  {
   "cell_type": "markdown",
   "id": "f9a9da6b-26b0-4e16-8974-cae717d70b80",
   "metadata": {
    "id": "f9a9da6b-26b0-4e16-8974-cae717d70b80"
   },
   "source": [
    "#Week 9: Day 1 – Dimensionality Reduction\n",
    "# Feature Selection Using Fisher Score and Chi2 (X2) Test\n",
    "### What is a fishet score and a chi2 (X2) test?\n",
    "Fisher score is one of the most widely used supervised featuer selection methods. It select each featuers independently according to their scores under the fisher criterion which lead to a suboptimal subset of featuers\n",
    "\n",
    "### Chi2 (X2) Test\n",
    "a chi-squared test also written as X2 test, is any statistical hypothesis test where the sampling distribution of the test statistics is a chi-squared distibution.\n",
    "\n",
    "chi-sqared measures dependence between stochasticvaribales, using this function'weeds out' the features that are the most likely to be independent of class and therefore irrelevent for classification"
   ]
  },
  {
   "cell_type": "code",
   "execution_count": null,
   "id": "402393f5-59fd-4e5b-b9c7-4d7871c8f362",
   "metadata": {
    "id": "402393f5-59fd-4e5b-b9c7-4d7871c8f362"
   },
   "outputs": [],
   "source": [
    "# loading the libraries to read and import data\n",
    "import numpy as np\n",
    "import pandas as pd\n",
    "import seaborn as sns\n",
    "import matplotlib.pyplot as plt\n",
    "%matplotlib inline"
   ]
  },
  {
   "cell_type": "code",
   "execution_count": null,
   "id": "a4ab27a2-04c3-441b-8b77-bf4d2d7979db",
   "metadata": {
    "id": "a4ab27a2-04c3-441b-8b77-bf4d2d7979db"
   },
   "outputs": [],
   "source": [
    "# here we will import functions from the sklearn library\n",
    "from sklearn.model_selection import train_test_split\n",
    "from sklearn.ensemble import RandomForestClassifier\n",
    "\n",
    "from sklearn.feature_selection import chi2\n",
    "from sklearn.feature_selection import SelectKBest, SelectPercentile\n",
    "from sklearn.metrics import accuracy_score"
   ]
  },
  {
   "cell_type": "code",
   "execution_count": null,
   "id": "b81caf86-9e92-48d9-abfe-5eb64e9fb807",
   "metadata": {
    "id": "b81caf86-9e92-48d9-abfe-5eb64e9fb807"
   },
   "outputs": [],
   "source": [
    "# loading the titanic dataset\n",
    "titanic=sns.load_dataset(\"titanic\")"
   ]
  },
  {
   "cell_type": "code",
   "execution_count": null,
   "id": "16de58f3-ceb5-43db-9c74-e027871cfaab",
   "metadata": {
    "id": "16de58f3-ceb5-43db-9c74-e027871cfaab",
    "outputId": "1ecf1100-daa1-4048-cdf6-1fe659f6ede8"
   },
   "outputs": [
    {
     "data": {
      "text/html": [
       "<div>\n",
       "<style scoped>\n",
       "    .dataframe tbody tr th:only-of-type {\n",
       "        vertical-align: middle;\n",
       "    }\n",
       "\n",
       "    .dataframe tbody tr th {\n",
       "        vertical-align: top;\n",
       "    }\n",
       "\n",
       "    .dataframe thead th {\n",
       "        text-align: right;\n",
       "    }\n",
       "</style>\n",
       "<table border=\"1\" class=\"dataframe\">\n",
       "  <thead>\n",
       "    <tr style=\"text-align: right;\">\n",
       "      <th></th>\n",
       "      <th>survived</th>\n",
       "      <th>pclass</th>\n",
       "      <th>sex</th>\n",
       "      <th>age</th>\n",
       "      <th>sibsp</th>\n",
       "      <th>parch</th>\n",
       "      <th>fare</th>\n",
       "      <th>embarked</th>\n",
       "      <th>class</th>\n",
       "      <th>who</th>\n",
       "      <th>adult_male</th>\n",
       "      <th>deck</th>\n",
       "      <th>embark_town</th>\n",
       "      <th>alive</th>\n",
       "      <th>alone</th>\n",
       "    </tr>\n",
       "  </thead>\n",
       "  <tbody>\n",
       "    <tr>\n",
       "      <th>0</th>\n",
       "      <td>0</td>\n",
       "      <td>3</td>\n",
       "      <td>male</td>\n",
       "      <td>22.0</td>\n",
       "      <td>1</td>\n",
       "      <td>0</td>\n",
       "      <td>7.2500</td>\n",
       "      <td>S</td>\n",
       "      <td>Third</td>\n",
       "      <td>man</td>\n",
       "      <td>True</td>\n",
       "      <td>NaN</td>\n",
       "      <td>Southampton</td>\n",
       "      <td>no</td>\n",
       "      <td>False</td>\n",
       "    </tr>\n",
       "    <tr>\n",
       "      <th>1</th>\n",
       "      <td>1</td>\n",
       "      <td>1</td>\n",
       "      <td>female</td>\n",
       "      <td>38.0</td>\n",
       "      <td>1</td>\n",
       "      <td>0</td>\n",
       "      <td>71.2833</td>\n",
       "      <td>C</td>\n",
       "      <td>First</td>\n",
       "      <td>woman</td>\n",
       "      <td>False</td>\n",
       "      <td>C</td>\n",
       "      <td>Cherbourg</td>\n",
       "      <td>yes</td>\n",
       "      <td>False</td>\n",
       "    </tr>\n",
       "    <tr>\n",
       "      <th>2</th>\n",
       "      <td>1</td>\n",
       "      <td>3</td>\n",
       "      <td>female</td>\n",
       "      <td>26.0</td>\n",
       "      <td>0</td>\n",
       "      <td>0</td>\n",
       "      <td>7.9250</td>\n",
       "      <td>S</td>\n",
       "      <td>Third</td>\n",
       "      <td>woman</td>\n",
       "      <td>False</td>\n",
       "      <td>NaN</td>\n",
       "      <td>Southampton</td>\n",
       "      <td>yes</td>\n",
       "      <td>True</td>\n",
       "    </tr>\n",
       "    <tr>\n",
       "      <th>3</th>\n",
       "      <td>1</td>\n",
       "      <td>1</td>\n",
       "      <td>female</td>\n",
       "      <td>35.0</td>\n",
       "      <td>1</td>\n",
       "      <td>0</td>\n",
       "      <td>53.1000</td>\n",
       "      <td>S</td>\n",
       "      <td>First</td>\n",
       "      <td>woman</td>\n",
       "      <td>False</td>\n",
       "      <td>C</td>\n",
       "      <td>Southampton</td>\n",
       "      <td>yes</td>\n",
       "      <td>False</td>\n",
       "    </tr>\n",
       "    <tr>\n",
       "      <th>4</th>\n",
       "      <td>0</td>\n",
       "      <td>3</td>\n",
       "      <td>male</td>\n",
       "      <td>35.0</td>\n",
       "      <td>0</td>\n",
       "      <td>0</td>\n",
       "      <td>8.0500</td>\n",
       "      <td>S</td>\n",
       "      <td>Third</td>\n",
       "      <td>man</td>\n",
       "      <td>True</td>\n",
       "      <td>NaN</td>\n",
       "      <td>Southampton</td>\n",
       "      <td>no</td>\n",
       "      <td>True</td>\n",
       "    </tr>\n",
       "  </tbody>\n",
       "</table>\n",
       "</div>"
      ],
      "text/plain": [
       "   survived  pclass     sex   age  sibsp  parch     fare embarked  class  \\\n",
       "0         0       3    male  22.0      1      0   7.2500        S  Third   \n",
       "1         1       1  female  38.0      1      0  71.2833        C  First   \n",
       "2         1       3  female  26.0      0      0   7.9250        S  Third   \n",
       "3         1       1  female  35.0      1      0  53.1000        S  First   \n",
       "4         0       3    male  35.0      0      0   8.0500        S  Third   \n",
       "\n",
       "     who  adult_male deck  embark_town alive  alone  \n",
       "0    man        True  NaN  Southampton    no  False  \n",
       "1  woman       False    C    Cherbourg   yes  False  \n",
       "2  woman       False  NaN  Southampton   yes   True  \n",
       "3  woman       False    C  Southampton   yes  False  \n",
       "4    man        True  NaN  Southampton    no   True  "
      ]
     },
     "execution_count": 10,
     "metadata": {},
     "output_type": "execute_result"
    }
   ],
   "source": [
    "# lets check the first 5 rows of our dataset\n",
    "titanic.head()"
   ]
  },
  {
   "cell_type": "code",
   "execution_count": null,
   "id": "11fe3781-d5a6-43c9-8318-130de50c2337",
   "metadata": {
    "id": "11fe3781-d5a6-43c9-8318-130de50c2337",
    "outputId": "d9d2b5f3-bc0d-4842-a429-a2479da4c35a"
   },
   "outputs": [
    {
     "data": {
      "text/plain": [
       "survived         0\n",
       "pclass           0\n",
       "sex              0\n",
       "age            177\n",
       "sibsp            0\n",
       "parch            0\n",
       "fare             0\n",
       "embarked         2\n",
       "class            0\n",
       "who              0\n",
       "adult_male       0\n",
       "deck           688\n",
       "embark_town      2\n",
       "alive            0\n",
       "alone            0\n",
       "dtype: int64"
      ]
     },
     "execution_count": 11,
     "metadata": {},
     "output_type": "execute_result"
    }
   ],
   "source": [
    "# lets see if there are null values in the dataset\n",
    "titanic.isnull().sum()"
   ]
  },
  {
   "cell_type": "code",
   "execution_count": null,
   "id": "364f7970-064a-488b-9c17-1796da72a793",
   "metadata": {
    "id": "364f7970-064a-488b-9c17-1796da72a793"
   },
   "outputs": [],
   "source": [
    "# lets drop the columns with the null values\n",
    "titanic.drop(labels= [\"age\", \"deck\"], axis=1, inplace=True)"
   ]
  },
  {
   "cell_type": "code",
   "execution_count": null,
   "id": "1a3ea698-59af-4de4-9fc1-da3c57664593",
   "metadata": {
    "id": "1a3ea698-59af-4de4-9fc1-da3c57664593"
   },
   "outputs": [],
   "source": [
    "titanic= titanic.dropna()"
   ]
  },
  {
   "cell_type": "code",
   "execution_count": null,
   "id": "b14d2f42-9343-44a1-b175-c1fd2d8671ad",
   "metadata": {
    "id": "b14d2f42-9343-44a1-b175-c1fd2d8671ad",
    "outputId": "ffd0af6a-8999-427f-a67f-b5b2146887ec"
   },
   "outputs": [
    {
     "data": {
      "text/plain": [
       "survived       0\n",
       "pclass         0\n",
       "sex            0\n",
       "sibsp          0\n",
       "parch          0\n",
       "fare           0\n",
       "embarked       0\n",
       "class          0\n",
       "who            0\n",
       "adult_male     0\n",
       "embark_town    0\n",
       "alive          0\n",
       "alone          0\n",
       "dtype: int64"
      ]
     },
     "execution_count": 16,
     "metadata": {},
     "output_type": "execute_result"
    }
   ],
   "source": [
    "# we check to see if the columns are dropped\n",
    "titanic.isnull().sum()"
   ]
  },
  {
   "cell_type": "code",
   "execution_count": null,
   "id": "8a705ef4-5729-468e-a4d6-972aa3d6bde7",
   "metadata": {
    "id": "8a705ef4-5729-468e-a4d6-972aa3d6bde7"
   },
   "outputs": [],
   "source": [
    "# now lets convert the categorical data into a string\n",
    "data=titanic[[\"pclass\", \"sex\", \"sibsp\", \"parch\", \"embarked\", \"who\", \"alone\"]].copy()"
   ]
  },
  {
   "cell_type": "code",
   "execution_count": null,
   "id": "e0430b9f-bf50-4d19-bcd6-6df504e2c039",
   "metadata": {
    "id": "e0430b9f-bf50-4d19-bcd6-6df504e2c039",
    "outputId": "93217351-3c72-43f8-f143-22e7b1e1938d"
   },
   "outputs": [
    {
     "data": {
      "text/html": [
       "<div>\n",
       "<style scoped>\n",
       "    .dataframe tbody tr th:only-of-type {\n",
       "        vertical-align: middle;\n",
       "    }\n",
       "\n",
       "    .dataframe tbody tr th {\n",
       "        vertical-align: top;\n",
       "    }\n",
       "\n",
       "    .dataframe thead th {\n",
       "        text-align: right;\n",
       "    }\n",
       "</style>\n",
       "<table border=\"1\" class=\"dataframe\">\n",
       "  <thead>\n",
       "    <tr style=\"text-align: right;\">\n",
       "      <th></th>\n",
       "      <th>pclass</th>\n",
       "      <th>sex</th>\n",
       "      <th>sibsp</th>\n",
       "      <th>parch</th>\n",
       "      <th>embarked</th>\n",
       "      <th>who</th>\n",
       "      <th>alone</th>\n",
       "    </tr>\n",
       "  </thead>\n",
       "  <tbody>\n",
       "    <tr>\n",
       "      <th>0</th>\n",
       "      <td>3</td>\n",
       "      <td>male</td>\n",
       "      <td>1</td>\n",
       "      <td>0</td>\n",
       "      <td>S</td>\n",
       "      <td>man</td>\n",
       "      <td>False</td>\n",
       "    </tr>\n",
       "    <tr>\n",
       "      <th>1</th>\n",
       "      <td>1</td>\n",
       "      <td>female</td>\n",
       "      <td>1</td>\n",
       "      <td>0</td>\n",
       "      <td>C</td>\n",
       "      <td>woman</td>\n",
       "      <td>False</td>\n",
       "    </tr>\n",
       "    <tr>\n",
       "      <th>2</th>\n",
       "      <td>3</td>\n",
       "      <td>female</td>\n",
       "      <td>0</td>\n",
       "      <td>0</td>\n",
       "      <td>S</td>\n",
       "      <td>woman</td>\n",
       "      <td>True</td>\n",
       "    </tr>\n",
       "    <tr>\n",
       "      <th>3</th>\n",
       "      <td>1</td>\n",
       "      <td>female</td>\n",
       "      <td>1</td>\n",
       "      <td>0</td>\n",
       "      <td>S</td>\n",
       "      <td>woman</td>\n",
       "      <td>False</td>\n",
       "    </tr>\n",
       "    <tr>\n",
       "      <th>4</th>\n",
       "      <td>3</td>\n",
       "      <td>male</td>\n",
       "      <td>0</td>\n",
       "      <td>0</td>\n",
       "      <td>S</td>\n",
       "      <td>man</td>\n",
       "      <td>True</td>\n",
       "    </tr>\n",
       "  </tbody>\n",
       "</table>\n",
       "</div>"
      ],
      "text/plain": [
       "   pclass     sex  sibsp  parch embarked    who  alone\n",
       "0       3    male      1      0        S    man  False\n",
       "1       1  female      1      0        C  woman  False\n",
       "2       3  female      0      0        S  woman   True\n",
       "3       1  female      1      0        S  woman  False\n",
       "4       3    male      0      0        S    man   True"
      ]
     },
     "execution_count": 32,
     "metadata": {},
     "output_type": "execute_result"
    }
   ],
   "source": [
    "# now let check the first five rows of the dataframe\n",
    "data.head()"
   ]
  },
  {
   "cell_type": "code",
   "execution_count": null,
   "id": "d6024a90-2423-4b80-9468-4b06b77e1816",
   "metadata": {
    "id": "d6024a90-2423-4b80-9468-4b06b77e1816",
    "outputId": "de14b611-01a7-414d-a3e0-abffdb238224"
   },
   "outputs": [
    {
     "data": {
      "text/plain": [
       "pclass      0\n",
       "sex         0\n",
       "sibsp       0\n",
       "parch       0\n",
       "embarked    0\n",
       "who         0\n",
       "alone       0\n",
       "dtype: int64"
      ]
     },
     "execution_count": 33,
     "metadata": {},
     "output_type": "execute_result"
    }
   ],
   "source": [
    "# let check if there is any null value in the data\n",
    "data.isnull().sum()"
   ]
  },
  {
   "cell_type": "code",
   "execution_count": null,
   "id": "82782333-a1d0-416f-bea2-4eb55353fec5",
   "metadata": {
    "id": "82782333-a1d0-416f-bea2-4eb55353fec5"
   },
   "outputs": [],
   "source": [
    "# now lets convert the categorical into a numerical value\n",
    "sex={\"male\":0, \"female\":1}\n",
    "data[\"sex\"]=data[\"sex\"].map(sex)"
   ]
  },
  {
   "cell_type": "code",
   "execution_count": null,
   "id": "6b30d790-4e30-4337-89ed-7385e382d430",
   "metadata": {
    "id": "6b30d790-4e30-4337-89ed-7385e382d430",
    "outputId": "693c2c0a-6149-4b84-dc88-cdc8bfd0a065"
   },
   "outputs": [
    {
     "data": {
      "text/html": [
       "<div>\n",
       "<style scoped>\n",
       "    .dataframe tbody tr th:only-of-type {\n",
       "        vertical-align: middle;\n",
       "    }\n",
       "\n",
       "    .dataframe tbody tr th {\n",
       "        vertical-align: top;\n",
       "    }\n",
       "\n",
       "    .dataframe thead th {\n",
       "        text-align: right;\n",
       "    }\n",
       "</style>\n",
       "<table border=\"1\" class=\"dataframe\">\n",
       "  <thead>\n",
       "    <tr style=\"text-align: right;\">\n",
       "      <th></th>\n",
       "      <th>pclass</th>\n",
       "      <th>sex</th>\n",
       "      <th>sibsp</th>\n",
       "      <th>parch</th>\n",
       "      <th>embarked</th>\n",
       "      <th>who</th>\n",
       "      <th>alone</th>\n",
       "    </tr>\n",
       "  </thead>\n",
       "  <tbody>\n",
       "    <tr>\n",
       "      <th>0</th>\n",
       "      <td>3</td>\n",
       "      <td>0</td>\n",
       "      <td>1</td>\n",
       "      <td>0</td>\n",
       "      <td>S</td>\n",
       "      <td>man</td>\n",
       "      <td>False</td>\n",
       "    </tr>\n",
       "    <tr>\n",
       "      <th>1</th>\n",
       "      <td>1</td>\n",
       "      <td>1</td>\n",
       "      <td>1</td>\n",
       "      <td>0</td>\n",
       "      <td>C</td>\n",
       "      <td>woman</td>\n",
       "      <td>False</td>\n",
       "    </tr>\n",
       "    <tr>\n",
       "      <th>2</th>\n",
       "      <td>3</td>\n",
       "      <td>1</td>\n",
       "      <td>0</td>\n",
       "      <td>0</td>\n",
       "      <td>S</td>\n",
       "      <td>woman</td>\n",
       "      <td>True</td>\n",
       "    </tr>\n",
       "    <tr>\n",
       "      <th>3</th>\n",
       "      <td>1</td>\n",
       "      <td>1</td>\n",
       "      <td>1</td>\n",
       "      <td>0</td>\n",
       "      <td>S</td>\n",
       "      <td>woman</td>\n",
       "      <td>False</td>\n",
       "    </tr>\n",
       "    <tr>\n",
       "      <th>4</th>\n",
       "      <td>3</td>\n",
       "      <td>0</td>\n",
       "      <td>0</td>\n",
       "      <td>0</td>\n",
       "      <td>S</td>\n",
       "      <td>man</td>\n",
       "      <td>True</td>\n",
       "    </tr>\n",
       "  </tbody>\n",
       "</table>\n",
       "</div>"
      ],
      "text/plain": [
       "   pclass  sex  sibsp  parch embarked    who  alone\n",
       "0       3    0      1      0        S    man  False\n",
       "1       1    1      1      0        C  woman  False\n",
       "2       3    1      0      0        S  woman   True\n",
       "3       1    1      1      0        S  woman  False\n",
       "4       3    0      0      0        S    man   True"
      ]
     },
     "execution_count": 35,
     "metadata": {},
     "output_type": "execute_result"
    }
   ],
   "source": [
    "data.head()"
   ]
  },
  {
   "cell_type": "code",
   "execution_count": null,
   "id": "c953cf27-36ec-448b-b081-06dd1e3294d5",
   "metadata": {
    "id": "c953cf27-36ec-448b-b081-06dd1e3294d5"
   },
   "outputs": [],
   "source": [
    "# will do the same to the embark column\n",
    "ports={\"S\":0, \"C\":1, \"Q\":2}\n",
    "data[\"embarked\"]=data[\"embarked\"].map(ports)"
   ]
  },
  {
   "cell_type": "code",
   "execution_count": null,
   "id": "84892236-41a1-42a9-9015-6fb0dfc94c29",
   "metadata": {
    "id": "84892236-41a1-42a9-9015-6fb0dfc94c29"
   },
   "outputs": [],
   "source": [
    "# and also the \"who\" column\n",
    "who={\"man\":0, \"woman\":1, \"child\":2}\n",
    "data[\"who\"]=data[\"who\"].map(who)     "
   ]
  },
  {
   "cell_type": "code",
   "execution_count": null,
   "id": "3080d155-6c11-451e-adfb-7cf47cad83cb",
   "metadata": {
    "id": "3080d155-6c11-451e-adfb-7cf47cad83cb"
   },
   "outputs": [],
   "source": [
    "# and to the last column\n",
    "alone={True:1, False:0}\n",
    "data[\"alone\"]=data[\"alone\"].map(alone)"
   ]
  },
  {
   "cell_type": "code",
   "execution_count": null,
   "id": "f2013e78-cf18-43e1-bfec-72363fb4ea1d",
   "metadata": {
    "id": "f2013e78-cf18-43e1-bfec-72363fb4ea1d",
    "outputId": "0674e10d-04d8-47fb-e9dd-b9bbb871174d"
   },
   "outputs": [
    {
     "data": {
      "text/html": [
       "<div>\n",
       "<style scoped>\n",
       "    .dataframe tbody tr th:only-of-type {\n",
       "        vertical-align: middle;\n",
       "    }\n",
       "\n",
       "    .dataframe tbody tr th {\n",
       "        vertical-align: top;\n",
       "    }\n",
       "\n",
       "    .dataframe thead th {\n",
       "        text-align: right;\n",
       "    }\n",
       "</style>\n",
       "<table border=\"1\" class=\"dataframe\">\n",
       "  <thead>\n",
       "    <tr style=\"text-align: right;\">\n",
       "      <th></th>\n",
       "      <th>pclass</th>\n",
       "      <th>sex</th>\n",
       "      <th>sibsp</th>\n",
       "      <th>parch</th>\n",
       "      <th>embarked</th>\n",
       "      <th>who</th>\n",
       "      <th>alone</th>\n",
       "    </tr>\n",
       "  </thead>\n",
       "  <tbody>\n",
       "    <tr>\n",
       "      <th>0</th>\n",
       "      <td>3</td>\n",
       "      <td>0</td>\n",
       "      <td>1</td>\n",
       "      <td>0</td>\n",
       "      <td>0</td>\n",
       "      <td>0</td>\n",
       "      <td>0</td>\n",
       "    </tr>\n",
       "    <tr>\n",
       "      <th>1</th>\n",
       "      <td>1</td>\n",
       "      <td>1</td>\n",
       "      <td>1</td>\n",
       "      <td>0</td>\n",
       "      <td>1</td>\n",
       "      <td>1</td>\n",
       "      <td>0</td>\n",
       "    </tr>\n",
       "    <tr>\n",
       "      <th>2</th>\n",
       "      <td>3</td>\n",
       "      <td>1</td>\n",
       "      <td>0</td>\n",
       "      <td>0</td>\n",
       "      <td>0</td>\n",
       "      <td>1</td>\n",
       "      <td>1</td>\n",
       "    </tr>\n",
       "    <tr>\n",
       "      <th>3</th>\n",
       "      <td>1</td>\n",
       "      <td>1</td>\n",
       "      <td>1</td>\n",
       "      <td>0</td>\n",
       "      <td>0</td>\n",
       "      <td>1</td>\n",
       "      <td>0</td>\n",
       "    </tr>\n",
       "    <tr>\n",
       "      <th>4</th>\n",
       "      <td>3</td>\n",
       "      <td>0</td>\n",
       "      <td>0</td>\n",
       "      <td>0</td>\n",
       "      <td>0</td>\n",
       "      <td>0</td>\n",
       "      <td>1</td>\n",
       "    </tr>\n",
       "  </tbody>\n",
       "</table>\n",
       "</div>"
      ],
      "text/plain": [
       "   pclass  sex  sibsp  parch  embarked  who  alone\n",
       "0       3    0      1      0         0    0      0\n",
       "1       1    1      1      0         1    1      0\n",
       "2       3    1      0      0         0    1      1\n",
       "3       1    1      1      0         0    1      0\n",
       "4       3    0      0      0         0    0      1"
      ]
     },
     "execution_count": 39,
     "metadata": {},
     "output_type": "execute_result"
    }
   ],
   "source": [
    "# now let check our data to make sure its all encoded\n",
    "data.head()"
   ]
  },
  {
   "cell_type": "markdown",
   "id": "140a5bfb-1a64-4ffa-9ae9-2c57bfd2b34f",
   "metadata": {
    "id": "140a5bfb-1a64-4ffa-9ae9-2c57bfd2b34f"
   },
   "source": [
    "#### Do F-Test\n",
    "here we will go ahead and do a chi(x2) test"
   ]
  },
  {
   "cell_type": "code",
   "execution_count": null,
   "id": "56371b1d-2b19-450c-950c-f543681bb973",
   "metadata": {
    "id": "56371b1d-2b19-450c-950c-f543681bb973"
   },
   "outputs": [],
   "source": [
    "X=data.copy()\n",
    "y=titanic[\"survived\"]"
   ]
  },
  {
   "cell_type": "code",
   "execution_count": null,
   "id": "4c9b1ebc-f09a-4915-8947-2548e7181aee",
   "metadata": {
    "id": "4c9b1ebc-f09a-4915-8947-2548e7181aee",
    "outputId": "bbf068d2-b64a-4212-9d2a-a3c05b6c7a13"
   },
   "outputs": [
    {
     "data": {
      "text/plain": [
       "((889, 7), (889,))"
      ]
     },
     "execution_count": 47,
     "metadata": {},
     "output_type": "execute_result"
    }
   ],
   "source": [
    "# lets check the shape of data we are dealing with\n",
    "X.shape, y.shape"
   ]
  },
  {
   "cell_type": "code",
   "execution_count": null,
   "id": "62eb07ea-e8fa-4af0-afd7-1fee5b3e696e",
   "metadata": {
    "id": "62eb07ea-e8fa-4af0-afd7-1fee5b3e696e"
   },
   "outputs": [],
   "source": [
    "# here we split the data\n",
    "X_train, X_test, y_train, y_test=train_test_split(X, y, test_size=0.2, random_state=0)"
   ]
  },
  {
   "cell_type": "code",
   "execution_count": null,
   "id": "d5ba1cdc-ae87-4987-bd91-b74c1e407630",
   "metadata": {
    "id": "d5ba1cdc-ae87-4987-bd91-b74c1e407630"
   },
   "outputs": [],
   "source": [
    "# now lets go ahead an calculate the f score\n",
    "f_score=chi2(X_train, y_train)"
   ]
  },
  {
   "cell_type": "code",
   "execution_count": null,
   "id": "16a23ddb-3f4f-47f9-8e73-82ff32dbae61",
   "metadata": {
    "id": "16a23ddb-3f4f-47f9-8e73-82ff32dbae61",
    "outputId": "e73c427e-f057-4a4c-e3b5-26454894a35e"
   },
   "outputs": [
    {
     "data": {
      "text/plain": [
       "(array([ 22.65169202, 152.91534343,   0.52934285,  10.35663782,\n",
       "         16.13255653, 161.42431175,  13.4382363 ]),\n",
       " array([1.94189138e-06, 3.99737147e-35, 4.66883271e-01, 1.29009955e-03,\n",
       "        5.90599986e-05, 5.52664700e-37, 2.46547298e-04]))"
      ]
     },
     "execution_count": 49,
     "metadata": {},
     "output_type": "execute_result"
    }
   ],
   "source": [
    "# lets print the f score\n",
    "f_score"
   ]
  },
  {
   "cell_type": "code",
   "execution_count": null,
   "id": "5dfa6a86-c00d-40b7-823c-02df6383456b",
   "metadata": {
    "id": "5dfa6a86-c00d-40b7-823c-02df6383456b"
   },
   "outputs": [],
   "source": [
    "# here we will create a series base on the f_score result and call it the p_values\n",
    "p_values=pd.Series(f_score[1], index=X_train.columns)\n",
    "p_values.sort_values(ascending=True, inplace=True)"
   ]
  },
  {
   "cell_type": "code",
   "execution_count": null,
   "id": "4eb7ea78-762a-4647-b032-63e0c8f61c1c",
   "metadata": {
    "id": "4eb7ea78-762a-4647-b032-63e0c8f61c1c",
    "outputId": "32023890-c9e5-4c0b-9463-742d7aa4a2ee"
   },
   "outputs": [
    {
     "data": {
      "text/plain": [
       "who         5.526647e-37\n",
       "sex         3.997371e-35\n",
       "pclass      1.941891e-06\n",
       "embarked    5.906000e-05\n",
       "alone       2.465473e-04\n",
       "parch       1.290100e-03\n",
       "sibsp       4.668833e-01\n",
       "dtype: float64"
      ]
     },
     "execution_count": 54,
     "metadata": {},
     "output_type": "execute_result"
    }
   ],
   "source": [
    "p_values"
   ]
  },
  {
   "cell_type": "code",
   "execution_count": null,
   "id": "d9631f45-697b-4a22-9571-26e94783af2a",
   "metadata": {
    "id": "d9631f45-697b-4a22-9571-26e94783af2a",
    "outputId": "4121b705-35c1-4881-8ad3-1feb48389570"
   },
   "outputs": [
    {
     "data": {
      "text/plain": [
       "<AxesSubplot:>"
      ]
     },
     "execution_count": 55,
     "metadata": {},
     "output_type": "execute_result"
    },
    {
     "data": {
      "image/png": "[encoded data removed]",
      "text/plain": [
       "<Figure size 432x288 with 1 Axes>"
      ]
     },
     "metadata": {
      "needs_background": "light"
     },
     "output_type": "display_data"
    }
   ],
   "source": [
    "# plotting a bar chart for the p value\n",
    "p_values.plot.bar()"
   ]
  },
  {
   "cell_type": "code",
   "execution_count": null,
   "id": "7a2bf7a0-3ec4-466c-a3a5-e5022bf3bbc4",
   "metadata": {
    "id": "7a2bf7a0-3ec4-466c-a3a5-e5022bf3bbc4"
   },
   "outputs": [],
   "source": [
    "# we will select the 2 features to check its accuracy\n",
    "X_train_2=X_train[[\"who\", \"sex\"]]\n",
    "X_test_2=X_test[[\"who\", \"sex\"]]                  "
   ]
  },
  {
   "cell_type": "code",
   "execution_count": null,
   "id": "25473069-4de0-409e-9bce-8043e5b20cf6",
   "metadata": {
    "id": "25473069-4de0-409e-9bce-8043e5b20cf6"
   },
   "outputs": [],
   "source": [
    "# here we will run the randomforest algorithm, pass the x and y, predict and check the accuracy\n",
    "def run_randomForest(X_train, X_test, y_train, y_test):\n",
    "    clf=RandomForestClassifier(n_estimators=100, random_state=0, n_jobs=-1)\n",
    "    clf.fit(X_train, y_train)\n",
    "    y_pred=clf.predict(X_test)\n",
    "    print(\"Accuracy: \", accuracy_score(y_test, y_pred))"
   ]
  },
  {
   "cell_type": "code",
   "execution_count": null,
   "id": "a9f0200c-e5c4-4dc8-8e3d-58d8db8c1ab9",
   "metadata": {
    "id": "a9f0200c-e5c4-4dc8-8e3d-58d8db8c1ab9",
    "outputId": "bb202670-e53e-45b3-8973-6d3b1d2a36c2"
   },
   "outputs": [
    {
     "name": "stdout",
     "output_type": "stream",
     "text": [
      "Accuracy:  0.7191011235955056\n",
      "CPU times: user 278 ms, sys: 81.4 ms, total: 360 ms\n",
      "Wall time: 382 ms\n"
     ]
    }
   ],
   "source": [
    "# here we will check the time it takes to run the randomforest function\n",
    "%%time\n",
    "run_randomForest(X_train_2, X_test_2, y_train, y_test)"
   ]
  },
  {
   "cell_type": "code",
   "execution_count": null,
   "id": "f9a5dd08-7a3a-423c-b8df-a9d8c67de233",
   "metadata": {
    "id": "f9a5dd08-7a3a-423c-b8df-a9d8c67de233"
   },
   "outputs": [],
   "source": [
    "# now lets go ahead and cheack for the rest of the features\n",
    "X_train_3=X_train[[\"who\", \"sex\", \"pclass\"]]\n",
    "X_test_3=X_test[[\"who\", \"sex\", \"pclass\"]]  "
   ]
  },
  {
   "cell_type": "code",
   "execution_count": null,
   "id": "e55622de-ac34-49a7-b5ad-b3af8c326ad5",
   "metadata": {
    "id": "e55622de-ac34-49a7-b5ad-b3af8c326ad5",
    "outputId": "22de36e3-9099-4b1b-a048-d0e6868d294a"
   },
   "outputs": [
    {
     "name": "stdout",
     "output_type": "stream",
     "text": [
      "Accuracy:  0.7415730337078652\n",
      "CPU times: user 249 ms, sys: 74.3 ms, total: 323 ms\n",
      "Wall time: 285 ms\n"
     ]
    }
   ],
   "source": [
    "%%time\n",
    "run_randomForest(X_train_3, X_test_3, y_train, y_test)"
   ]
  },
  {
   "cell_type": "code",
   "execution_count": null,
   "id": "e6924b65-893d-48fc-91af-fc1e136ef5e7",
   "metadata": {
    "id": "e6924b65-893d-48fc-91af-fc1e136ef5e7"
   },
   "outputs": [],
   "source": [
    "X_train_4=X_train[[\"who\", \"sex\", \"pclass\", \"embarked\"]]\n",
    "X_test_4=X_test[[\"who\", \"sex\", \"pclass\", \"embarked\"]]  "
   ]
  },
  {
   "cell_type": "code",
   "execution_count": null,
   "id": "5c15cb47-f25b-4af4-9f7e-302e2fc4ea60",
   "metadata": {
    "id": "5c15cb47-f25b-4af4-9f7e-302e2fc4ea60",
    "outputId": "259d1d76-4d2b-445b-839d-c409177b5c0c"
   },
   "outputs": [
    {
     "name": "stdout",
     "output_type": "stream",
     "text": [
      "Accuracy:  0.7584269662921348\n",
      "CPU times: user 269 ms, sys: 72.2 ms, total: 341 ms\n",
      "Wall time: 328 ms\n"
     ]
    }
   ],
   "source": [
    "%%time\n",
    "run_randomForest(X_train_4, X_test_4, y_train, y_test)"
   ]
  },
  {
   "cell_type": "code",
   "execution_count": null,
   "id": "ddb095c3-414f-4f40-8975-93b8e67ff31a",
   "metadata": {
    "id": "ddb095c3-414f-4f40-8975-93b8e67ff31a"
   },
   "outputs": [],
   "source": [
    "X_train_4=X_train[[\"who\", \"sex\", \"pclass\", \"alone\"]]\n",
    "X_test_4=X_test[[\"who\", \"sex\", \"pclass\", \"alone\"]]  "
   ]
  },
  {
   "cell_type": "code",
   "execution_count": null,
   "id": "47efb3b6-cf60-4c24-ae68-a7427abfed63",
   "metadata": {
    "id": "47efb3b6-cf60-4c24-ae68-a7427abfed63",
    "outputId": "bc7dc850-6248-4df4-cb70-9afc35fd1b4c"
   },
   "outputs": [
    {
     "name": "stdout",
     "output_type": "stream",
     "text": [
      "Accuracy:  0.7528089887640449\n",
      "CPU times: user 269 ms, sys: 76.4 ms, total: 345 ms\n",
      "Wall time: 329 ms\n"
     ]
    }
   ],
   "source": [
    "%%time\n",
    "run_randomForest(X_train_4, X_test_4, y_train, y_test)"
   ]
  },
  {
   "cell_type": "code",
   "execution_count": null,
   "id": "3d427d38-8115-42b4-aa16-99644be552f5",
   "metadata": {
    "id": "3d427d38-8115-42b4-aa16-99644be552f5"
   },
   "outputs": [],
   "source": [
    "X_train_5=X_train[[\"who\", \"sex\", \"pclass\", \"embarked\", \"alone\"]]\n",
    "X_test_5=X_test[[\"who\", \"sex\", \"pclass\", \"embarked\", \"alone\"]]  "
   ]
  },
  {
   "cell_type": "code",
   "execution_count": null,
   "id": "4b2b2549-8cf7-41c3-a40e-1b2281cbbc19",
   "metadata": {
    "id": "4b2b2549-8cf7-41c3-a40e-1b2281cbbc19",
    "outputId": "740a568c-05c4-410c-a73c-a5ce9bfa1506"
   },
   "outputs": [
    {
     "name": "stdout",
     "output_type": "stream",
     "text": [
      "Accuracy:  0.7528089887640449\n",
      "CPU times: user 256 ms, sys: 70.8 ms, total: 327 ms\n",
      "Wall time: 335 ms\n"
     ]
    }
   ],
   "source": [
    "%%time\n",
    "run_randomForest(X_train_5, X_test_5, y_train, y_test)"
   ]
  },
  {
   "cell_type": "code",
   "execution_count": null,
   "id": "780ecc4e-3e69-497e-a710-fb141369bdef",
   "metadata": {
    "id": "780ecc4e-3e69-497e-a710-fb141369bdef",
    "outputId": "7fe2728e-f25d-4976-b214-d4d5191618a8"
   },
   "outputs": [
    {
     "name": "stdout",
     "output_type": "stream",
     "text": [
      "Accuracy:  0.7359550561797753\n",
      "CPU times: user 266 ms, sys: 76.6 ms, total: 342 ms\n",
      "Wall time: 294 ms\n"
     ]
    }
   ],
   "source": [
    "%%time\n",
    "run_randomForest(X_train, X_test, y_train, y_test)"
   ]
  },
  {
   "cell_type": "markdown",
   "id": "bfbb14ad-323a-4f32-9399-b334cf96def5",
   "metadata": {
    "id": "bfbb14ad-323a-4f32-9399-b334cf96def5"
   },
   "source": [
    "# Feature Dimension Reduction using LDA and PCA with Python| Principal Component Analysis in Feature Selection\n",
    "### What is LDA\n",
    "Linear Discriminant Analysis is a supervised algorithm as it takes the class label into consideration. it is a way to reduce \"dimmensionality\" while at the same time preserving as much of the class discrimination information as possible'\n",
    "\n",
    "### What is a PCA\n",
    " Pricipal Componenet Analysis(PCA) is a linear dimensionality reduction technique that can be utilized for extracting information from a high-dimmensional space by projecting it into a lower-dimmensional sub-space. it tries to preserve the essential parts that have more variation of the data and remove the non-essential parts with fewer variation"
   ]
  },
  {
   "cell_type": "code",
   "execution_count": null,
   "id": "e832de0f-c8ab-4c4d-be84-df4966024889",
   "metadata": {
    "id": "e832de0f-c8ab-4c4d-be84-df4966024889"
   },
   "outputs": [],
   "source": [
    "# importing libraries to load and read the data\n",
    "import pandas as pd\n",
    "import numpy as np\n",
    "import seaborn as sns\n",
    "import matplotlib.pyplot as plt\n",
    "%matplotlib inline"
   ]
  },
  {
   "cell_type": "code",
   "execution_count": null,
   "id": "1aeb9af4-5974-4abe-9012-6712d9d1e105",
   "metadata": {
    "id": "1aeb9af4-5974-4abe-9012-6712d9d1e105"
   },
   "outputs": [],
   "source": [
    "# importing pakages in other to work with our dataset\n",
    "from sklearn.model_selection import train_test_split\n",
    "from sklearn.ensemble import RandomForestClassifier\n",
    "from sklearn.metrics import accuracy_score, roc_auc_score\n",
    "from sklearn.feature_selection import VarianceThreshold\n",
    "from sklearn.preprocessing import StandardScaler"
   ]
  },
  {
   "cell_type": "code",
   "execution_count": null,
   "id": "5881532c-8ff5-4124-be6e-0d19e1aad51f",
   "metadata": {
    "id": "5881532c-8ff5-4124-be6e-0d19e1aad51f",
    "outputId": "7fdffbb7-5d10-4f5f-a5c4-70ea4769011f"
   },
   "outputs": [
    {
     "data": {
      "text/html": [
       "<div>\n",
       "<style scoped>\n",
       "    .dataframe tbody tr th:only-of-type {\n",
       "        vertical-align: middle;\n",
       "    }\n",
       "\n",
       "    .dataframe tbody tr th {\n",
       "        vertical-align: top;\n",
       "    }\n",
       "\n",
       "    .dataframe thead th {\n",
       "        text-align: right;\n",
       "    }\n",
       "</style>\n",
       "<table border=\"1\" class=\"dataframe\">\n",
       "  <thead>\n",
       "    <tr style=\"text-align: right;\">\n",
       "      <th></th>\n",
       "      <th>ID</th>\n",
       "      <th>var3</th>\n",
       "      <th>var15</th>\n",
       "      <th>imp_ent_var16_ult1</th>\n",
       "      <th>imp_op_var39_comer_ult1</th>\n",
       "      <th>imp_op_var39_comer_ult3</th>\n",
       "      <th>imp_op_var40_comer_ult1</th>\n",
       "      <th>imp_op_var40_comer_ult3</th>\n",
       "      <th>imp_op_var40_efect_ult1</th>\n",
       "      <th>imp_op_var40_efect_ult3</th>\n",
       "      <th>...</th>\n",
       "      <th>saldo_medio_var33_hace2</th>\n",
       "      <th>saldo_medio_var33_hace3</th>\n",
       "      <th>saldo_medio_var33_ult1</th>\n",
       "      <th>saldo_medio_var33_ult3</th>\n",
       "      <th>saldo_medio_var44_hace2</th>\n",
       "      <th>saldo_medio_var44_hace3</th>\n",
       "      <th>saldo_medio_var44_ult1</th>\n",
       "      <th>saldo_medio_var44_ult3</th>\n",
       "      <th>var38</th>\n",
       "      <th>TARGET</th>\n",
       "    </tr>\n",
       "  </thead>\n",
       "  <tbody>\n",
       "    <tr>\n",
       "      <th>0</th>\n",
       "      <td>1</td>\n",
       "      <td>2</td>\n",
       "      <td>23</td>\n",
       "      <td>0.0</td>\n",
       "      <td>0.0</td>\n",
       "      <td>0.0</td>\n",
       "      <td>0.0</td>\n",
       "      <td>0.0</td>\n",
       "      <td>0</td>\n",
       "      <td>0</td>\n",
       "      <td>...</td>\n",
       "      <td>0.0</td>\n",
       "      <td>0.0</td>\n",
       "      <td>0.0</td>\n",
       "      <td>0.0</td>\n",
       "      <td>0.0</td>\n",
       "      <td>0.0</td>\n",
       "      <td>0.0</td>\n",
       "      <td>0.0</td>\n",
       "      <td>39205.170000</td>\n",
       "      <td>0</td>\n",
       "    </tr>\n",
       "    <tr>\n",
       "      <th>1</th>\n",
       "      <td>3</td>\n",
       "      <td>2</td>\n",
       "      <td>34</td>\n",
       "      <td>0.0</td>\n",
       "      <td>0.0</td>\n",
       "      <td>0.0</td>\n",
       "      <td>0.0</td>\n",
       "      <td>0.0</td>\n",
       "      <td>0</td>\n",
       "      <td>0</td>\n",
       "      <td>...</td>\n",
       "      <td>0.0</td>\n",
       "      <td>0.0</td>\n",
       "      <td>0.0</td>\n",
       "      <td>0.0</td>\n",
       "      <td>0.0</td>\n",
       "      <td>0.0</td>\n",
       "      <td>0.0</td>\n",
       "      <td>0.0</td>\n",
       "      <td>49278.030000</td>\n",
       "      <td>0</td>\n",
       "    </tr>\n",
       "    <tr>\n",
       "      <th>2</th>\n",
       "      <td>4</td>\n",
       "      <td>2</td>\n",
       "      <td>23</td>\n",
       "      <td>0.0</td>\n",
       "      <td>0.0</td>\n",
       "      <td>0.0</td>\n",
       "      <td>0.0</td>\n",
       "      <td>0.0</td>\n",
       "      <td>0</td>\n",
       "      <td>0</td>\n",
       "      <td>...</td>\n",
       "      <td>0.0</td>\n",
       "      <td>0.0</td>\n",
       "      <td>0.0</td>\n",
       "      <td>0.0</td>\n",
       "      <td>0.0</td>\n",
       "      <td>0.0</td>\n",
       "      <td>0.0</td>\n",
       "      <td>0.0</td>\n",
       "      <td>67333.770000</td>\n",
       "      <td>0</td>\n",
       "    </tr>\n",
       "    <tr>\n",
       "      <th>3</th>\n",
       "      <td>8</td>\n",
       "      <td>2</td>\n",
       "      <td>37</td>\n",
       "      <td>0.0</td>\n",
       "      <td>195.0</td>\n",
       "      <td>195.0</td>\n",
       "      <td>0.0</td>\n",
       "      <td>0.0</td>\n",
       "      <td>0</td>\n",
       "      <td>0</td>\n",
       "      <td>...</td>\n",
       "      <td>0.0</td>\n",
       "      <td>0.0</td>\n",
       "      <td>0.0</td>\n",
       "      <td>0.0</td>\n",
       "      <td>0.0</td>\n",
       "      <td>0.0</td>\n",
       "      <td>0.0</td>\n",
       "      <td>0.0</td>\n",
       "      <td>64007.970000</td>\n",
       "      <td>0</td>\n",
       "    </tr>\n",
       "    <tr>\n",
       "      <th>4</th>\n",
       "      <td>10</td>\n",
       "      <td>2</td>\n",
       "      <td>39</td>\n",
       "      <td>0.0</td>\n",
       "      <td>0.0</td>\n",
       "      <td>0.0</td>\n",
       "      <td>0.0</td>\n",
       "      <td>0.0</td>\n",
       "      <td>0</td>\n",
       "      <td>0</td>\n",
       "      <td>...</td>\n",
       "      <td>0.0</td>\n",
       "      <td>0.0</td>\n",
       "      <td>0.0</td>\n",
       "      <td>0.0</td>\n",
       "      <td>0.0</td>\n",
       "      <td>0.0</td>\n",
       "      <td>0.0</td>\n",
       "      <td>0.0</td>\n",
       "      <td>117310.979016</td>\n",
       "      <td>0</td>\n",
       "    </tr>\n",
       "  </tbody>\n",
       "</table>\n",
       "<p>5 rows × 371 columns</p>\n",
       "</div>"
      ],
      "text/plain": [
       "   ID  var3  var15  imp_ent_var16_ult1  imp_op_var39_comer_ult1  \\\n",
       "0   1     2     23                 0.0                      0.0   \n",
       "1   3     2     34                 0.0                      0.0   \n",
       "2   4     2     23                 0.0                      0.0   \n",
       "3   8     2     37                 0.0                    195.0   \n",
       "4  10     2     39                 0.0                      0.0   \n",
       "\n",
       "   imp_op_var39_comer_ult3  imp_op_var40_comer_ult1  imp_op_var40_comer_ult3  \\\n",
       "0                      0.0                      0.0                      0.0   \n",
       "1                      0.0                      0.0                      0.0   \n",
       "2                      0.0                      0.0                      0.0   \n",
       "3                    195.0                      0.0                      0.0   \n",
       "4                      0.0                      0.0                      0.0   \n",
       "\n",
       "   imp_op_var40_efect_ult1  imp_op_var40_efect_ult3  ...  \\\n",
       "0                        0                        0  ...   \n",
       "1                        0                        0  ...   \n",
       "2                        0                        0  ...   \n",
       "3                        0                        0  ...   \n",
       "4                        0                        0  ...   \n",
       "\n",
       "   saldo_medio_var33_hace2  saldo_medio_var33_hace3  saldo_medio_var33_ult1  \\\n",
       "0                      0.0                      0.0                     0.0   \n",
       "1                      0.0                      0.0                     0.0   \n",
       "2                      0.0                      0.0                     0.0   \n",
       "3                      0.0                      0.0                     0.0   \n",
       "4                      0.0                      0.0                     0.0   \n",
       "\n",
       "   saldo_medio_var33_ult3  saldo_medio_var44_hace2  saldo_medio_var44_hace3  \\\n",
       "0                     0.0                      0.0                      0.0   \n",
       "1                     0.0                      0.0                      0.0   \n",
       "2                     0.0                      0.0                      0.0   \n",
       "3                     0.0                      0.0                      0.0   \n",
       "4                     0.0                      0.0                      0.0   \n",
       "\n",
       "   saldo_medio_var44_ult1  saldo_medio_var44_ult3          var38  TARGET  \n",
       "0                     0.0                     0.0   39205.170000       0  \n",
       "1                     0.0                     0.0   49278.030000       0  \n",
       "2                     0.0                     0.0   67333.770000       0  \n",
       "3                     0.0                     0.0   64007.970000       0  \n",
       "4                     0.0                     0.0  117310.979016       0  \n",
       "\n",
       "[5 rows x 371 columns]"
      ]
     },
     "execution_count": 3,
     "metadata": {},
     "output_type": "execute_result"
    }
   ],
   "source": [
    "# loading our dataset\n",
    "data=pd.read_csv(\"C:\\\\Users\\\\Zachary_B\\\\Desktop\\\\dataset\\\\santander-train.csv\", nrows=20000)\n",
    "data.head()"
   ]
  },
  {
   "cell_type": "code",
   "execution_count": null,
   "id": "801a2885-0d34-45e4-99f1-8e24ca7e7003",
   "metadata": {
    "id": "801a2885-0d34-45e4-99f1-8e24ca7e7003",
    "outputId": "8f25ff2a-0fab-4d5d-a066-7e2b82176171"
   },
   "outputs": [
    {
     "data": {
      "text/plain": [
       "((20000, 370), (20000,))"
      ]
     },
     "execution_count": 4,
     "metadata": {},
     "output_type": "execute_result"
    }
   ],
   "source": [
    "# we are going to using the last column (target) to read into the x, y then check the shape\n",
    "X=data.drop(\"TARGET\", axis=1)\n",
    "y=data[\"TARGET\"]\n",
    "\n",
    "\n",
    "X.shape,y.shape"
   ]
  },
  {
   "cell_type": "code",
   "execution_count": null,
   "id": "3eb1bccc-a663-4b72-87c4-454fbb8fcc6d",
   "metadata": {
    "id": "3eb1bccc-a663-4b72-87c4-454fbb8fcc6d"
   },
   "outputs": [],
   "source": [
    "# we will go ahead and do the train, test and split\n",
    "X_train, X_test, y_train, y_test=train_test_split(X, y, test_size=0.2, random_state=0, stratify=y)"
   ]
  },
  {
   "cell_type": "markdown",
   "id": "07e46c7e-8c50-423d-a8a8-014581725367",
   "metadata": {
    "id": "07e46c7e-8c50-423d-a8a8-014581725367"
   },
   "source": [
    "#### Remove Constant, Quasi Constant and Duplicate Features"
   ]
  },
  {
   "cell_type": "code",
   "execution_count": null,
   "id": "ac57a53d-b36c-4dd6-acd9-e71e125cf064",
   "metadata": {
    "id": "ac57a53d-b36c-4dd6-acd9-e71e125cf064"
   },
   "outputs": [],
   "source": [
    "# remove constant and quasi constant features\n",
    "constant_filter=VarianceThreshold(threshold=0.01)\n",
    "constant_filter.fit(X_train)\n",
    "X_train_filter=constant_filter.transform(X_train)\n",
    "X_test_filter=constant_filter.transform(X_test)"
   ]
  },
  {
   "cell_type": "code",
   "execution_count": null,
   "id": "9fa24174-87df-4a7c-9586-dbf27562d586",
   "metadata": {
    "id": "9fa24174-87df-4a7c-9586-dbf27562d586",
    "outputId": "1b51a199-694d-4893-c9c0-92a59acb3d4d"
   },
   "outputs": [
    {
     "data": {
      "text/plain": [
       "((16000, 245), (4000, 245))"
      ]
     },
     "execution_count": 7,
     "metadata": {},
     "output_type": "execute_result"
    }
   ],
   "source": [
    "# after removing it lets go ahead and check what we are left with\n",
    "X_train_filter.shape, X_test_filter.shape"
   ]
  },
  {
   "cell_type": "code",
   "execution_count": null,
   "id": "e8f46c29-d8b3-43d0-97bd-8df37bfe9373",
   "metadata": {
    "id": "e8f46c29-d8b3-43d0-97bd-8df37bfe9373"
   },
   "outputs": [],
   "source": [
    "# remove duplicate features\n",
    "X_train_T=X_train_filter.T\n",
    "X_test_T=X_test_filter.T"
   ]
  },
  {
   "cell_type": "code",
   "execution_count": null,
   "id": "f13ab688-7d89-42c2-a5b1-5ed3872777a2",
   "metadata": {
    "id": "f13ab688-7d89-42c2-a5b1-5ed3872777a2"
   },
   "outputs": [],
   "source": [
    "X_train_T=pd.DataFrame(X_train_T)\n",
    "X_test_T=pd.DataFrame(X_test_T)"
   ]
  },
  {
   "cell_type": "code",
   "execution_count": null,
   "id": "7e893e85-334b-4a46-b8ff-5efe2a8f9140",
   "metadata": {
    "id": "7e893e85-334b-4a46-b8ff-5efe2a8f9140",
    "outputId": "98037666-b4ff-45e4-9a48-ab495e8057a5"
   },
   "outputs": [
    {
     "data": {
      "text/plain": [
       "18"
      ]
     },
     "execution_count": 10,
     "metadata": {},
     "output_type": "execute_result"
    }
   ],
   "source": [
    "# sum up all duplicate\n",
    "X_train_T.duplicated().sum()"
   ]
  },
  {
   "cell_type": "code",
   "execution_count": null,
   "id": "40e4d6a9-6b7a-4035-915c-1656ef8ebad3",
   "metadata": {
    "id": "40e4d6a9-6b7a-4035-915c-1656ef8ebad3"
   },
   "outputs": [],
   "source": [
    "duplicated_features=X_train_T.duplicated()"
   ]
  },
  {
   "cell_type": "code",
   "execution_count": null,
   "id": "800fb9bc-cf3e-4d41-99d5-5a8dfa812c34",
   "metadata": {
    "id": "800fb9bc-cf3e-4d41-99d5-5a8dfa812c34"
   },
   "outputs": [],
   "source": [
    "# now let go ahed and find the featuers we want to keep\n",
    "features_to_keep=[not index for index in duplicated_features]\n",
    "\n",
    "X_train_unique=X_train_T[features_to_keep].T\n",
    "X_test_unique=X_test_T[features_to_keep].T"
   ]
  },
  {
   "cell_type": "code",
   "execution_count": null,
   "id": "130792e3-5b0f-4e19-a62b-ae9851034621",
   "metadata": {
    "id": "130792e3-5b0f-4e19-a62b-ae9851034621"
   },
   "outputs": [],
   "source": [
    "# we will do the standardization here \n",
    "scaler=StandardScaler().fit(X_train_unique)\n",
    "X_train_unique=scaler.transform(X_train_unique)\n",
    "X_test_unique=scaler.transform(X_test_unique)"
   ]
  },
  {
   "cell_type": "code",
   "execution_count": null,
   "id": "606f664f-8eac-431d-9828-b9aa92f01e31",
   "metadata": {
    "id": "606f664f-8eac-431d-9828-b9aa92f01e31"
   },
   "outputs": [],
   "source": [
    "# checkingthe unique values\n",
    "X_train_unique=pd.DataFrame(X_train_unique)\n",
    "X_test_unique=pd.DataFrame(X_test_unique)"
   ]
  },
  {
   "cell_type": "code",
   "execution_count": null,
   "id": "dc2091de-f9a8-4719-bf41-137a15c9e187",
   "metadata": {
    "id": "dc2091de-f9a8-4719-bf41-137a15c9e187",
    "outputId": "6ffe66d9-f340-4717-e372-26643c9efc3c"
   },
   "outputs": [
    {
     "data": {
      "text/plain": [
       "((16000, 227), (4000, 227))"
      ]
     },
     "execution_count": 15,
     "metadata": {},
     "output_type": "execute_result"
    }
   ],
   "source": [
    "# finally checking the shape to see hat we are left with\n",
    "X_train_unique.shape, X_test_unique.shape"
   ]
  },
  {
   "cell_type": "markdown",
   "id": "568b7a0f-b019-4514-af3e-34d72855193b",
   "metadata": {
    "id": "568b7a0f-b019-4514-af3e-34d72855193b"
   },
   "source": [
    "#### Removal of correlated Feature"
   ]
  },
  {
   "cell_type": "code",
   "execution_count": null,
   "id": "4dee0674-5257-45de-a1b7-2283ca0da6cb",
   "metadata": {
    "id": "4dee0674-5257-45de-a1b7-2283ca0da6cb"
   },
   "outputs": [],
   "source": [
    "# first we are going to get all the corrolation matric among all the featuers\n",
    "corrmat=X_train_unique.corr()"
   ]
  },
  {
   "cell_type": "code",
   "execution_count": null,
   "id": "859ee4bb-8fa7-47cd-9b72-9a0b094720dd",
   "metadata": {
    "id": "859ee4bb-8fa7-47cd-9b72-9a0b094720dd",
    "outputId": "cecd642f-8e52-4190-a607-77ec36a06bd6"
   },
   "outputs": [
    {
     "data": {
      "text/plain": [
       "(227, 227)"
      ]
     },
     "execution_count": 18,
     "metadata": {},
     "output_type": "execute_result"
    }
   ],
   "source": [
    "# lets check the shape of the corr features\n",
    "corrmat.shape"
   ]
  },
  {
   "cell_type": "code",
   "execution_count": null,
   "id": "b8bb0690-6a5a-4d6e-a919-c725664cbfaa",
   "metadata": {
    "id": "b8bb0690-6a5a-4d6e-a919-c725664cbfaa",
    "outputId": "7fb81182-cdad-45a9-f45d-aaa3b300334e"
   },
   "outputs": [
    {
     "name": "stdout",
     "output_type": "stream",
     "text": [
      "correlated features:  148\n"
     ]
    }
   ],
   "source": [
    "# find correlated features and print it\n",
    "def get_correlation(data, threshold):\n",
    "    corr_col=set()\n",
    "    corrmat=data.corr()\n",
    "    for i in range(len(corrmat.columns)):\n",
    "        for j in range(i):\n",
    "            if abs(corrmat.iloc[i, j])>threshold:\n",
    "                colname=corrmat.columns[i]\n",
    "                corr_col.add(colname)\n",
    "    return corr_col\n",
    "\n",
    "corr_features=get_correlation(X_train_unique, 0.70)\n",
    "print(\"correlated features: \", len(set(corr_features)) )"
   ]
  },
  {
   "cell_type": "code",
   "execution_count": null,
   "id": "be93570e-e72d-457a-9e2b-66633cf1e7a9",
   "metadata": {
    "id": "be93570e-e72d-457a-9e2b-66633cf1e7a9"
   },
   "outputs": [],
   "source": [
    "# we will take the train and test variables in this cell\n",
    "X_train_uncorr=X_train_unique.drop(labels=corr_features, axis=1)\n",
    "X_test_uncorr=X_test_unique.drop(labels=corr_features, axis=1)"
   ]
  },
  {
   "cell_type": "code",
   "execution_count": null,
   "id": "a9ac2507-4268-4c89-b87d-ebee4cf46264",
   "metadata": {
    "id": "a9ac2507-4268-4c89-b87d-ebee4cf46264",
    "outputId": "5ccccd37-47bd-468d-b17f-2e62f7117469"
   },
   "outputs": [
    {
     "data": {
      "text/plain": [
       "((16000, 79), (4000, 79))"
      ]
     },
     "execution_count": 21,
     "metadata": {},
     "output_type": "execute_result"
    }
   ],
   "source": [
    "# lets run this to know the shape\n",
    "X_train_uncorr.shape, X_test_uncorr.shape"
   ]
  },
  {
   "cell_type": "markdown",
   "id": "4b7f4423-c679-4416-bdd7-8301c1ad1946",
   "metadata": {
    "id": "4b7f4423-c679-4416-bdd7-8301c1ad1946"
   },
   "source": [
    "#### Feature Dimension Reduction by LDA OR Is it as a Classifier"
   ]
  },
  {
   "cell_type": "code",
   "execution_count": null,
   "id": "88e442a3-b831-4750-82e6-79e6f4966a01",
   "metadata": {
    "id": "88e442a3-b831-4750-82e6-79e6f4966a01"
   },
   "outputs": [],
   "source": [
    "# import the LDA from the sklearn library\n",
    "from sklearn.discriminant_analysis import LinearDiscriminantAnalysis as LDA"
   ]
  },
  {
   "cell_type": "code",
   "execution_count": null,
   "id": "066585a9-8634-4fc9-9684-fcfe8e289f79",
   "metadata": {
    "id": "066585a9-8634-4fc9-9684-fcfe8e289f79"
   },
   "outputs": [],
   "source": [
    "# lets go ahead and impliment the LDA\n",
    "lda=LDA(n_components=1)\n",
    "X_train_lda=lda.fit_transform(X_train_uncorr, y_train)"
   ]
  },
  {
   "cell_type": "code",
   "execution_count": null,
   "id": "b1da36cb-e6fb-400b-ada5-099ae883ee4f",
   "metadata": {
    "id": "b1da36cb-e6fb-400b-ada5-099ae883ee4f",
    "outputId": "5045a0f9-3a25-4a12-a5ce-82cb250a06ce"
   },
   "outputs": [
    {
     "data": {
      "text/plain": [
       "(16000, 1)"
      ]
     },
     "execution_count": 24,
     "metadata": {},
     "output_type": "execute_result"
    }
   ],
   "source": [
    "# cheaking the LDA x train to see if it is transform\n",
    "X_train_lda.shape"
   ]
  },
  {
   "cell_type": "code",
   "execution_count": null,
   "id": "645f9977-0fda-4384-be86-d3d625f49491",
   "metadata": {
    "id": "645f9977-0fda-4384-be86-d3d625f49491"
   },
   "outputs": [],
   "source": [
    "# transforming the test dataset\n",
    "X_test_lda=lda.transform(X_test_uncorr)"
   ]
  },
  {
   "cell_type": "code",
   "execution_count": null,
   "id": "39aa8840-950c-4fb4-a62f-103aaf9432d5",
   "metadata": {
    "id": "39aa8840-950c-4fb4-a62f-103aaf9432d5"
   },
   "outputs": [],
   "source": [
    "# shape of the test dataset\n",
    "#X_test_lda.shape"
   ]
  },
  {
   "cell_type": "code",
   "execution_count": null,
   "id": "fc75002e-ef00-4a6c-9e2a-889f98474ffd",
   "metadata": {
    "id": "fc75002e-ef00-4a6c-9e2a-889f98474ffd"
   },
   "outputs": [],
   "source": [
    "# running the randomforest of the train and test dataset, fit in the dataset, predict and print the dataset\n",
    "def run_randomForest(X_train, X_test, y_train, y_test):\n",
    "    clf=RandomForestClassifier(n_estimators=100, random_state=0, n_jobs=-1)\n",
    "    clf.fit(X_train, y_train)\n",
    "    y_pred=clf.predict(X_test)\n",
    "    print(\"Accuracy on test set: \")\n",
    "    print(accuracy_score(y_pred, y_test))"
   ]
  },
  {
   "cell_type": "code",
   "execution_count": null,
   "id": "daba73d1-5862-42b9-91ce-788f7bc168b7",
   "metadata": {
    "id": "daba73d1-5862-42b9-91ce-788f7bc168b7",
    "outputId": "4be9d1f0-668c-42e4-94ef-a1e4aac0a20d"
   },
   "outputs": [
    {
     "data": {
      "text/plain": [
       "(4000,)"
      ]
     },
     "execution_count": 28,
     "metadata": {},
     "output_type": "execute_result"
    }
   ],
   "source": [
    "y_test.shape"
   ]
  },
  {
   "cell_type": "code",
   "execution_count": null,
   "id": "ee5da07d-95d3-4b31-964b-e8af9f51a39b",
   "metadata": {
    "id": "ee5da07d-95d3-4b31-964b-e8af9f51a39b",
    "outputId": "c526bdb7-7d2d-43d3-d2c7-6243ccfe6499"
   },
   "outputs": [
    {
     "name": "stdout",
     "output_type": "stream",
     "text": [
      "Wall time: 0 ns\n",
      "Accuracy on test set: \n",
      "0.93025\n"
     ]
    }
   ],
   "source": [
    "# checking the time it takes to run the randomforest\n",
    "%time\n",
    "run_randomForest(X_train_lda, X_test_lda, y_train, y_test)"
   ]
  },
  {
   "cell_type": "code",
   "execution_count": null,
   "id": "7c896678-eba6-4d50-88c3-a0f0ddb84ab3",
   "metadata": {
    "id": "7c896678-eba6-4d50-88c3-a0f0ddb84ab3",
    "outputId": "a5e4d979-4474-4385-87ae-6a69cfbce481"
   },
   "outputs": [
    {
     "name": "stdout",
     "output_type": "stream",
     "text": [
      "Wall time: 0 ns\n",
      "Accuracy on test set: \n",
      "0.9585\n"
     ]
    }
   ],
   "source": [
    "%time\n",
    "run_randomForest(X_train, X_test, y_train, y_test)"
   ]
  },
  {
   "cell_type": "markdown",
   "id": "549ea050-4c95-45f3-9547-a1357b0cd087",
   "metadata": {
    "id": "549ea050-4c95-45f3-9547-a1357b0cd087"
   },
   "source": [
    "#### Feature Reduction by PCA"
   ]
  },
  {
   "cell_type": "code",
   "execution_count": null,
   "id": "1c674ecb-c979-4775-bd86-164070ecd59d",
   "metadata": {
    "id": "1c674ecb-c979-4775-bd86-164070ecd59d"
   },
   "outputs": [],
   "source": [
    "# lets import the PCA from sklearn\n",
    "from sklearn.decomposition import PCA"
   ]
  },
  {
   "cell_type": "code",
   "execution_count": null,
   "id": "df3abbc1-df1a-49ab-b8a8-71c9f0ef3dc6",
   "metadata": {
    "id": "df3abbc1-df1a-49ab-b8a8-71c9f0ef3dc6",
    "outputId": "aff9ac02-6501-47c8-d370-6db1e3d26028"
   },
   "outputs": [
    {
     "data": {
      "text/plain": [
       "PCA(n_components=2, random_state=42)"
      ]
     },
     "execution_count": 33,
     "metadata": {},
     "output_type": "execute_result"
    }
   ],
   "source": [
    "# selecting the n components and random state of pca and fiting it in\n",
    "pca=PCA(n_components=2, random_state=42)\n",
    "pca.fit(X_test_uncorr)"
   ]
  },
  {
   "cell_type": "code",
   "execution_count": null,
   "id": "988ed3ac-4b4b-455b-8bae-755d52a15742",
   "metadata": {
    "id": "988ed3ac-4b4b-455b-8bae-755d52a15742",
    "outputId": "5bc9f6a5-87c6-4899-ce63-80f26387c029"
   },
   "outputs": [
    {
     "data": {
      "text/plain": [
       "((16000, 2), (16000, 79))"
      ]
     },
     "execution_count": 34,
     "metadata": {},
     "output_type": "execute_result"
    }
   ],
   "source": [
    "# getting the training and testing datset\n",
    "X_train_pca=pca.transform(X_train_uncorr)\n",
    "X_test_pca=pca.transform(X_test_uncorr)\n",
    "X_train_pca.shape, X_train_uncorr.shape"
   ]
  },
  {
   "cell_type": "code",
   "execution_count": null,
   "id": "35c36c8c-0247-4a88-9fb7-cd4f4adb3aa0",
   "metadata": {
    "id": "35c36c8c-0247-4a88-9fb7-cd4f4adb3aa0",
    "outputId": "6e24e20b-468e-43f8-b4ff-07344ba9e59e"
   },
   "outputs": [
    {
     "name": "stdout",
     "output_type": "stream",
     "text": [
      "Wall time: 0 ns\n",
      "Accuracy on test set: \n",
      "0.9565\n"
     ]
    }
   ],
   "source": [
    "# cheacking the time it took to run the randomforest\n",
    "%time\n",
    "run_randomForest(X_train_pca, X_test_pca, y_train, y_test)"
   ]
  },
  {
   "cell_type": "code",
   "execution_count": null,
   "id": "6126d51f-c702-4626-ba74-1d6cd1c24aa3",
   "metadata": {
    "id": "6126d51f-c702-4626-ba74-1d6cd1c24aa3",
    "outputId": "8d0f911b-ad28-4c75-ccf0-66a0869d5405"
   },
   "outputs": [
    {
     "name": "stdout",
     "output_type": "stream",
     "text": [
      "Selected Comp:  1\n",
      "Accuracy on test set: \n",
      "0.931\n",
      "\n",
      "Selected Comp:  2\n",
      "Accuracy on test set: \n",
      "0.9565\n",
      "\n",
      "Selected Comp:  3\n",
      "Accuracy on test set: \n",
      "0.95725\n",
      "\n",
      "Selected Comp:  4\n",
      "Accuracy on test set: \n",
      "0.956\n",
      "\n",
      "Selected Comp:  5\n",
      "Accuracy on test set: \n",
      "0.955\n",
      "\n",
      "Selected Comp:  6\n",
      "Accuracy on test set: \n",
      "0.95575\n",
      "\n",
      "Selected Comp:  7\n",
      "Accuracy on test set: \n",
      "0.9565\n",
      "\n",
      "Selected Comp:  8\n",
      "Accuracy on test set: \n",
      "0.956\n",
      "\n",
      "Selected Comp:  9\n",
      "Accuracy on test set: \n",
      "0.957\n",
      "\n",
      "Selected Comp:  10\n",
      "Accuracy on test set: \n",
      "0.956\n",
      "\n",
      "Selected Comp:  11\n",
      "Accuracy on test set: \n",
      "0.956\n",
      "\n",
      "Selected Comp:  12\n",
      "Accuracy on test set: \n",
      "0.9555\n",
      "\n",
      "Selected Comp:  13\n",
      "Accuracy on test set: \n",
      "0.95625\n",
      "\n",
      "Selected Comp:  14\n",
      "Accuracy on test set: \n",
      "0.956\n",
      "\n",
      "Selected Comp:  15\n",
      "Accuracy on test set: \n",
      "0.95525\n",
      "\n",
      "Selected Comp:  16\n",
      "Accuracy on test set: \n",
      "0.95575\n",
      "\n",
      "Selected Comp:  17\n",
      "Accuracy on test set: \n",
      "0.9555\n",
      "\n",
      "Selected Comp:  18\n",
      "Accuracy on test set: \n",
      "0.95475\n",
      "\n",
      "Selected Comp:  19\n",
      "Accuracy on test set: \n",
      "0.9565\n",
      "\n",
      "Selected Comp:  20\n",
      "Accuracy on test set: \n",
      "0.95625\n",
      "\n",
      "Selected Comp:  21\n",
      "Accuracy on test set: \n",
      "0.95575\n",
      "\n",
      "Selected Comp:  22\n",
      "Accuracy on test set: \n",
      "0.9555\n",
      "\n",
      "Selected Comp:  23\n",
      "Accuracy on test set: \n",
      "0.95575\n",
      "\n",
      "Selected Comp:  24\n",
      "Accuracy on test set: \n",
      "0.95525\n",
      "\n",
      "Selected Comp:  25\n",
      "Accuracy on test set: \n",
      "0.95525\n",
      "\n",
      "Selected Comp:  26\n",
      "Accuracy on test set: \n",
      "0.95525\n",
      "\n",
      "Selected Comp:  27\n",
      "Accuracy on test set: \n",
      "0.955\n",
      "\n",
      "Selected Comp:  28\n",
      "Accuracy on test set: \n",
      "0.95575\n",
      "\n",
      "Selected Comp:  29\n",
      "Accuracy on test set: \n",
      "0.95575\n",
      "\n",
      "Selected Comp:  30\n",
      "Accuracy on test set: \n",
      "0.956\n",
      "\n",
      "Selected Comp:  31\n",
      "Accuracy on test set: \n",
      "0.956\n",
      "\n",
      "Selected Comp:  32\n",
      "Accuracy on test set: \n",
      "0.9565\n",
      "\n",
      "Selected Comp:  33\n",
      "Accuracy on test set: \n",
      "0.956\n",
      "\n",
      "Selected Comp:  34\n",
      "Accuracy on test set: \n",
      "0.9565\n",
      "\n",
      "Selected Comp:  35\n",
      "Accuracy on test set: \n",
      "0.956\n",
      "\n",
      "Selected Comp:  36\n",
      "Accuracy on test set: \n",
      "0.956\n",
      "\n",
      "Selected Comp:  37\n",
      "Accuracy on test set: \n",
      "0.956\n",
      "\n",
      "Selected Comp:  38\n",
      "Accuracy on test set: \n",
      "0.956\n",
      "\n",
      "Selected Comp:  39\n",
      "Accuracy on test set: \n",
      "0.956\n",
      "\n",
      "Selected Comp:  40\n",
      "Accuracy on test set: \n",
      "0.956\n",
      "\n",
      "Selected Comp:  41\n",
      "Accuracy on test set: \n",
      "0.95575\n",
      "\n",
      "Selected Comp:  42\n",
      "Accuracy on test set: \n",
      "0.95575\n",
      "\n",
      "Selected Comp:  43\n",
      "Accuracy on test set: \n",
      "0.95625\n",
      "\n",
      "Selected Comp:  44\n",
      "Accuracy on test set: \n",
      "0.9555\n",
      "\n",
      "Selected Comp:  45\n",
      "Accuracy on test set: \n",
      "0.95575\n",
      "\n",
      "Selected Comp:  46\n",
      "Accuracy on test set: \n",
      "0.95525\n",
      "\n",
      "Selected Comp:  47\n",
      "Accuracy on test set: \n",
      "0.955\n",
      "\n",
      "Selected Comp:  48\n",
      "Accuracy on test set: \n",
      "0.956\n",
      "\n",
      "Selected Comp:  49\n",
      "Accuracy on test set: \n",
      "0.9555\n",
      "\n",
      "Selected Comp:  50\n",
      "Accuracy on test set: \n",
      "0.95625\n",
      "\n",
      "Selected Comp:  51\n",
      "Accuracy on test set: \n",
      "0.95675\n",
      "\n",
      "Selected Comp:  52\n",
      "Accuracy on test set: \n",
      "0.95575\n",
      "\n",
      "Selected Comp:  53\n",
      "Accuracy on test set: \n",
      "0.9555\n",
      "\n",
      "Selected Comp:  54\n",
      "Accuracy on test set: \n",
      "0.9555\n",
      "\n",
      "Selected Comp:  55\n",
      "Accuracy on test set: \n",
      "0.955\n",
      "\n",
      "Selected Comp:  56\n",
      "Accuracy on test set: \n",
      "0.956\n",
      "\n",
      "Selected Comp:  57\n",
      "Accuracy on test set: \n",
      "0.9555\n",
      "\n",
      "Selected Comp:  58\n",
      "Accuracy on test set: \n",
      "0.95575\n",
      "\n",
      "Selected Comp:  59\n",
      "Accuracy on test set: \n",
      "0.95525\n",
      "\n",
      "Selected Comp:  60\n",
      "Accuracy on test set: \n",
      "0.95575\n",
      "\n",
      "Selected Comp:  61\n",
      "Accuracy on test set: \n",
      "0.9555\n",
      "\n",
      "Selected Comp:  62\n",
      "Accuracy on test set: \n",
      "0.956\n",
      "\n",
      "Selected Comp:  63\n",
      "Accuracy on test set: \n",
      "0.957\n",
      "\n",
      "Selected Comp:  64\n",
      "Accuracy on test set: \n",
      "0.95525\n",
      "\n",
      "Selected Comp:  65\n",
      "Accuracy on test set: \n",
      "0.95475\n",
      "\n",
      "Selected Comp:  66\n",
      "Accuracy on test set: \n",
      "0.95525\n",
      "\n",
      "Selected Comp:  67\n",
      "Accuracy on test set: \n",
      "0.9555\n",
      "\n",
      "Selected Comp:  68\n",
      "Accuracy on test set: \n",
      "0.956\n",
      "\n",
      "Selected Comp:  69\n",
      "Accuracy on test set: \n",
      "0.9555\n",
      "\n",
      "Selected Comp:  70\n",
      "Accuracy on test set: \n",
      "0.956\n",
      "\n",
      "Selected Comp:  71\n",
      "Accuracy on test set: \n",
      "0.95525\n",
      "\n",
      "Selected Comp:  72\n",
      "Accuracy on test set: \n",
      "0.9555\n",
      "\n",
      "Selected Comp:  73\n",
      "Accuracy on test set: \n",
      "0.95575\n",
      "\n",
      "Selected Comp:  74\n",
      "Accuracy on test set: \n",
      "0.95625\n",
      "\n",
      "Selected Comp:  75\n",
      "Accuracy on test set: \n",
      "0.9555\n",
      "\n",
      "Selected Comp:  76\n",
      "Accuracy on test set: \n",
      "0.95525\n",
      "\n",
      "Selected Comp:  77\n",
      "Accuracy on test set: \n",
      "0.955\n",
      "\n",
      "Selected Comp:  78\n",
      "Accuracy on test set: \n",
      "0.9555\n",
      "\n"
     ]
    }
   ],
   "source": [
    "# using the for loop to check the accuracy of all the component\n",
    "for component in range(1, 79):\n",
    "    pca=PCA(n_components=component, random_state=42)\n",
    "    pca.fit(X_test_uncorr)\n",
    "    X_train_pca=pca.transform(X_train_uncorr)\n",
    "    X_test_pca=pca.transform(X_test_uncorr)\n",
    "    print(\"Selected Comp: \", component)\n",
    "    run_randomForest(X_train_pca, X_test_pca, y_train, y_test)\n",
    "    print()"
   ]
  },
  {
   "cell_type": "markdown",
   "id": "04994b28-4373-464b-9a6d-aee157b36643",
   "metadata": {
    "id": "43f3a281-fbb9-4878-9af0-5bcda4cd9258"
   },
   "source": [
    "# Required Reading: Dimensionality Reduction"
   ]
  },
  {
   "cell_type": "markdown",
   "id": "1ecb15f8-4628-4dcd-9ae5-86def429457b",
   "metadata": {
    "id": "1527fe7c-9ddf-4053-8a91-505fbc66c0b6"
   },
   "source": [
    "## Dimensionality Reduction with PCA and LDA Using Sklearn\n",
    "\n",
    "Dimensionality reduction refers to reducing the number of features in a dataset in\n",
    "such a way that the overall performance of the algorithms trained on the dataset is\n",
    "minimally affected. With dimensionality reduction, the training time of statistical\n",
    "algorithms can be significantly reduced, and data can be visualized more easily\n",
    "since it is not easy to visualize datasets in higher dimensions.\n",
    "There are two main approaches used for dimensionality reduction: Principal\n",
    "Component Analysis (PCA) and Linear Discriminant Analysis (LDA). In this\n",
    "chapter, you will study both of them.\n",
    "### Principal Component Analysis\n",
    "Principal component analysis is an unsupervised dimensionality reduction\n",
    "technique that doesn’t depend on the labels of a dataset. Principal component\n",
    "analysis prioritizes features on the basis of their ability to cause maximum variance\n",
    "in the output. The idea behind PCA is to capture those features that contain\n",
    "maximum features about the dataset. The feature that causes the maximum variance\n",
    "in the output is called the first principal component, the feature that causes the\n",
    "second-highest variance is called the second principal component, and so on.\n",
    "### Why Use PCA?\n",
    "The following are the advantages of PCA:\n",
    "1. Correlated features can be detected and removed using PCA\n",
    "2. Reduces overfitting because of reduction in the number of features\n",
    "3. Model training can be expedited.\n",
    "### Disadvantages of PCA\n",
    "There are two major disadvantages of PCA:\n",
    "1. You need to standardize the data before you apply PCA\n",
    "2. The independent variable becomes less integrable\n",
    "3. Some amount of information is lost when you reduce features.\n",
    "### Implementing PCA with Python’s Sklearn Library\n",
    "In this section, you will see how to use PCA to select two of the most important\n",
    "features in the Iris dataset using the Sklearn library. The following script imports\n",
    "the required libraries:"
   ]
  },
  {
   "cell_type": "code",
   "execution_count": 1,
   "id": "edf7b4fa-49d9-4bdd-824a-081e5a90f878",
   "metadata": {},
   "outputs": [],
   "source": [
    "import pandas as pd\n",
    "import numpy as np\n",
    "import seaborn as sns"
   ]
  },
  {
   "cell_type": "code",
   "execution_count": 4,
   "id": "9964fe19-7ff9-4d20-bb19-64cd144600d4",
   "metadata": {},
   "outputs": [
    {
     "data": {
      "text/html": [
       "<div>\n",
       "<style scoped>\n",
       "    .dataframe tbody tr th:only-of-type {\n",
       "        vertical-align: middle;\n",
       "    }\n",
       "\n",
       "    .dataframe tbody tr th {\n",
       "        vertical-align: top;\n",
       "    }\n",
       "\n",
       "    .dataframe thead th {\n",
       "        text-align: right;\n",
       "    }\n",
       "</style>\n",
       "<table border=\"1\" class=\"dataframe\">\n",
       "  <thead>\n",
       "    <tr style=\"text-align: right;\">\n",
       "      <th></th>\n",
       "      <th>sepal_length</th>\n",
       "      <th>sepal_width</th>\n",
       "      <th>petal_length</th>\n",
       "      <th>petal_width</th>\n",
       "      <th>species</th>\n",
       "    </tr>\n",
       "  </thead>\n",
       "  <tbody>\n",
       "    <tr>\n",
       "      <th>0</th>\n",
       "      <td>5.1</td>\n",
       "      <td>3.5</td>\n",
       "      <td>1.4</td>\n",
       "      <td>0.2</td>\n",
       "      <td>setosa</td>\n",
       "    </tr>\n",
       "    <tr>\n",
       "      <th>1</th>\n",
       "      <td>4.9</td>\n",
       "      <td>3.0</td>\n",
       "      <td>1.4</td>\n",
       "      <td>0.2</td>\n",
       "      <td>setosa</td>\n",
       "    </tr>\n",
       "    <tr>\n",
       "      <th>2</th>\n",
       "      <td>4.7</td>\n",
       "      <td>3.2</td>\n",
       "      <td>1.3</td>\n",
       "      <td>0.2</td>\n",
       "      <td>setosa</td>\n",
       "    </tr>\n",
       "    <tr>\n",
       "      <th>3</th>\n",
       "      <td>4.6</td>\n",
       "      <td>3.1</td>\n",
       "      <td>1.5</td>\n",
       "      <td>0.2</td>\n",
       "      <td>setosa</td>\n",
       "    </tr>\n",
       "    <tr>\n",
       "      <th>4</th>\n",
       "      <td>5.0</td>\n",
       "      <td>3.6</td>\n",
       "      <td>1.4</td>\n",
       "      <td>0.2</td>\n",
       "      <td>setosa</td>\n",
       "    </tr>\n",
       "  </tbody>\n",
       "</table>\n",
       "</div>"
      ],
      "text/plain": [
       "   sepal_length  sepal_width  petal_length  petal_width species\n",
       "0           5.1          3.5           1.4          0.2  setosa\n",
       "1           4.9          3.0           1.4          0.2  setosa\n",
       "2           4.7          3.2           1.3          0.2  setosa\n",
       "3           4.6          3.1           1.5          0.2  setosa\n",
       "4           5.0          3.6           1.4          0.2  setosa"
      ]
     },
     "execution_count": 4,
     "metadata": {},
     "output_type": "execute_result"
    }
   ],
   "source": [
    "# imports the Iris dataset using the Seaborn library and prints the first five rows of the dataset.\n",
    "# importing the dataset\n",
    "iris_df = sns.load_dataset(\"iris\")\n",
    "\n",
    "#print dataset header\n",
    "iris_df.head()\n"
   ]
  },
  {
   "cell_type": "code",
   "execution_count": 8,
   "id": "3fc8a7fe-ba76-476d-b427-7ee2e4c9109d",
   "metadata": {},
   "outputs": [],
   "source": [
    "# The following code divides the data into the features and labels sets.\n",
    "\n",
    "#creating feature set\n",
    "X = iris_df.drop(['species'], axis=1)\n",
    "\n",
    "\n",
    "#creating label set\n",
    "y = iris_df[\"species\"]\n",
    "\n",
    "#converting labels to numbers\n",
    "from sklearn import preprocessing\n",
    "le = preprocessing.LabelEncoder()\n",
    "y = le.fit_transform(y)"
   ]
  },
  {
   "cell_type": "code",
   "execution_count": 9,
   "id": "17f2415a-3db3-412a-bb33-98607b374750",
   "metadata": {},
   "outputs": [],
   "source": [
    "#dividing data into 80-20% traning and test sets\n",
    "from sklearn.model_selection import train_test_split\n",
    "\n",
    "X_train, X_test, y_train, y_test = train_test_split(X, y, test_size=0.20, random_state=0)"
   ]
  },
  {
   "cell_type": "code",
   "execution_count": 10,
   "id": "e4e8b443-7115-4088-a551-d53a1f7eb8c5",
   "metadata": {},
   "outputs": [],
   "source": [
    "#applying scaling on training and test data\n",
    "from sklearn.preprocessing import StandardScaler\n",
    "sc = StandardScaler()\n",
    "X_train = sc.fit_transform(X_train)\n",
    "X_test = sc.transform (X_test)"
   ]
  },
  {
   "cell_type": "markdown",
   "id": "9f9f8e4a-8fc9-4a63-a950-0e67a2c16d3a",
   "metadata": {},
   "source": [
    "To apply PCA via Sklearn, all you have to do is import the PCA class from the\n",
    "Sklearn.decomposition module. Next, to apply PCA to the training set, pass the\n",
    "training set to the fit_tansform() method of the PCA class object. To apply PCA on\n",
    "the test set, pass the test set to the transform() method of the PCA class object. This\n",
    "is shown in the following script.\n"
   ]
  },
  {
   "cell_type": "code",
   "execution_count": 11,
   "id": "cbf8cf40-1a24-44b9-96dc-8d4c9a44c3ad",
   "metadata": {},
   "outputs": [],
   "source": [
    "#importing PCA class\n",
    "from sklearn.decomposition import PCA\n",
    "\n",
    "#creating object of the PCA class\n",
    "pca = PCA()\n",
    "\n",
    "#training PCA model on training data\n",
    "X_train = pca.fit_transform(X_train)\n",
    "\n",
    "#making predictions on test data\n",
    "X_test = pca.transform(X_test)\n"
   ]
  },
  {
   "cell_type": "markdown",
   "id": "29bb85fa-23b9-47a9-a97c-71480a508a7e",
   "metadata": {},
   "source": [
    "Once you have applied PCA on a dataset, you can use the\n",
    "explained_variance_ratio_ feature to print variance caused by all the features in the\n",
    "dataset. This is shown in the following"
   ]
  },
  {
   "cell_type": "code",
   "execution_count": 12,
   "id": "ee181aa4-c15c-4854-9a4a-20b70227c5c3",
   "metadata": {},
   "outputs": [
    {
     "name": "stdout",
     "output_type": "stream",
     "text": [
      "[0.72229951 0.2397406  0.03335483 0.00460506]\n"
     ]
    }
   ],
   "source": [
    "#printing variance ratios\n",
    "variance_ratios = pca.explained_variance_ratio_\n",
    "print (variance_ratios)"
   ]
  },
  {
   "cell_type": "markdown",
   "id": "62fc628f-55ef-4180-ba41-5dcef9c7a27a",
   "metadata": {},
   "source": [
    "The output above shows that 72.22 percent of the variance in the dataset is caused\n",
    "by the first principal component, while 23.97 percent of the variance is caused by\n",
    "the second principal component.\n",
    "Let’s now select the two principal components that caused a collective variance of\n",
    "96.19 percent (72.22% + 23.97% = 96.19%).\n",
    "\n",
    "\n",
    "To select two principal components, all you have to do is pass 2 as a value to the\n",
    "n_components attribute of the PCA class. The following script selects two principal\n",
    "components from the Iris training and test sets.\n"
   ]
  },
  {
   "cell_type": "code",
   "execution_count": 13,
   "id": "3fb87bf1-5ca2-48a8-8fd3-5833c513bdad",
   "metadata": {},
   "outputs": [],
   "source": [
    "#use one principal component\n",
    "from sklearn.decomposition import PCA\n",
    "\n",
    "pca = PCA(n_components=2)\n",
    "X_train = pca.fit_transform(X_train)\n",
    "X_test = pca.transform(X_test)"
   ]
  },
  {
   "cell_type": "markdown",
   "id": "6cd93fca-6015-4562-8d29-b503428d1fc6",
   "metadata": {},
   "source": [
    "Let’s train a classification model using logistic regression, which predicts the label\n",
    "of the iris plant using the two principal components or features, instead of the\n",
    "original four features.\n"
   ]
  },
  {
   "cell_type": "code",
   "execution_count": 14,
   "id": "897a2b1f-2235-404f-b86e-884967221c1a",
   "metadata": {},
   "outputs": [
    {
     "name": "stdout",
     "output_type": "stream",
     "text": [
      "0.8666666666666667\n"
     ]
    }
   ],
   "source": [
    "#making predictions using logistic regression\n",
    "from sklearn.linear_model import LogisticRegression\n",
    "\n",
    "#training the logistic regression model\n",
    "lg = LogisticRegression()\n",
    "lg.fit(X_train, y_train)\n",
    "\n",
    "\n",
    "# Predicting the Test set results\n",
    "y_pred = lg.predict(X_test)\n",
    "\n",
    "#evaluating results\n",
    "\n",
    "from sklearn.metrics import accuracy_score\n",
    "\n",
    "print (accuracy_score(y_test, y_pred))"
   ]
  },
  {
   "cell_type": "markdown",
   "id": "e67827bf-4930-4753-bb19-b4d538fcfa2e",
   "metadata": {},
   "source": [
    "The output shows that even with two features, the accuracy for correctly predicting\n",
    "the label for the iris plant is 86.66.\n",
    "Finally, with two features, you can easily visualize the dataset using the following\n"
   ]
  },
  {
   "cell_type": "code",
   "execution_count": 16,
   "id": "2764d689-96f0-435d-8cd1-ba12a30c1d57",
   "metadata": {},
   "outputs": [
    {
     "data": {
      "text/plain": [
       "<matplotlib.collections.PathCollection at 0x24610fd39d0>"
      ]
     },
     "execution_count": 16,
     "metadata": {},
     "output_type": "execute_result"
    },
    {
     "data": {
      "image/png": "[encoded data removed]",
      "text/plain": [
       "<Figure size 432x288 with 1 Axes>"
      ]
     },
     "metadata": {
      "needs_background": "light"
     },
     "output_type": "display_data"
    }
   ],
   "source": [
    "from matplotlib import pyplot as plt \n",
    "%matplotlib inline\n",
    "\n",
    "#print actual datapoints\n",
    "\n",
    "plt.scatter(X_test[:,0], X_test[:,1], c= y_test, cmap='rainbow')"
   ]
  },
  {
   "cell_type": "markdown",
   "id": "01f6f6fc-b656-4f31-ab6f-4a6f0d640fa5",
   "metadata": {},
   "source": [
    "## Linear Discriminant Analysis\n",
    "Linear Discriminant Analysis (LDA) is a supervised dimensionality reduction\n",
    "technique, where a decision boundary is formed around data points belonging to\n",
    "each cluster of a class. The data points are projected to new dimensions in a way\n",
    "that the distance between the data points within a cluster is minimized, while the\n",
    "distance between the clusters is maximized. The new dimensions are ranked w.r.t.\n",
    "their ability to (i) minimize the distance between data points within a cluster, and\n",
    "(ii) maximize the distance between individual clusters.\n",
    "### Why Use LDA?\n",
    "The following are the advantages of LDA:\n",
    "1. Reduces overfitting because of reduction in the number of features\n",
    "2. Model training can be expedited.\n",
    "### Disadvantages of LDA\n",
    "There are three major disadvantages of LDA:\n",
    "    1. Not able to detect correlated features\n",
    "    2. Cannot be used with unsupervised or unlabeled data\n",
    "    3. Some amount of information is lost when you reduce features.\n",
    "### Implementing LDA with Sklearn Library\n",
    "Let’s see how you can implement LDA using the Sklearn library."
   ]
  },
  {
   "cell_type": "code",
   "execution_count": 17,
   "id": "e7cbf10a-602a-4246-a1b5-81cc7ad3afaf",
   "metadata": {},
   "outputs": [],
   "source": [
    "#As always, the first step is to import the required libraries.\n",
    "import pandas as pd\n",
    "import numpy as np\n",
    "import seaborn as sns"
   ]
  },
  {
   "cell_type": "markdown",
   "id": "d57354f3-b7ed-4738-b441-0beba3647476",
   "metadata": {},
   "source": [
    "You will be using the “banknote.csv” dataset from the Datasets folder in the\n",
    "GitHub repository. The following script imports the dataset and displays its first\n",
    "five rows."
   ]
  },
  {
   "cell_type": "code",
   "execution_count": 19,
   "id": "a6eafb41-d4a4-4bf4-80a5-343aa924ec49",
   "metadata": {},
   "outputs": [
    {
     "data": {
      "text/html": [
       "<div>\n",
       "<style scoped>\n",
       "    .dataframe tbody tr th:only-of-type {\n",
       "        vertical-align: middle;\n",
       "    }\n",
       "\n",
       "    .dataframe tbody tr th {\n",
       "        vertical-align: top;\n",
       "    }\n",
       "\n",
       "    .dataframe thead th {\n",
       "        text-align: right;\n",
       "    }\n",
       "</style>\n",
       "<table border=\"1\" class=\"dataframe\">\n",
       "  <thead>\n",
       "    <tr style=\"text-align: right;\">\n",
       "      <th></th>\n",
       "      <th>Variance</th>\n",
       "      <th>Skewness</th>\n",
       "      <th>Curtosis</th>\n",
       "      <th>Entropy</th>\n",
       "      <th>Class</th>\n",
       "    </tr>\n",
       "  </thead>\n",
       "  <tbody>\n",
       "    <tr>\n",
       "      <th>0</th>\n",
       "      <td>3.62160</td>\n",
       "      <td>8.6661</td>\n",
       "      <td>-2.8073</td>\n",
       "      <td>-0.44699</td>\n",
       "      <td>0</td>\n",
       "    </tr>\n",
       "    <tr>\n",
       "      <th>1</th>\n",
       "      <td>4.54590</td>\n",
       "      <td>8.1674</td>\n",
       "      <td>-2.4586</td>\n",
       "      <td>-1.46210</td>\n",
       "      <td>0</td>\n",
       "    </tr>\n",
       "    <tr>\n",
       "      <th>2</th>\n",
       "      <td>3.86600</td>\n",
       "      <td>-2.6383</td>\n",
       "      <td>1.9242</td>\n",
       "      <td>0.10645</td>\n",
       "      <td>0</td>\n",
       "    </tr>\n",
       "    <tr>\n",
       "      <th>3</th>\n",
       "      <td>3.45660</td>\n",
       "      <td>9.5228</td>\n",
       "      <td>-4.0112</td>\n",
       "      <td>-3.59440</td>\n",
       "      <td>0</td>\n",
       "    </tr>\n",
       "    <tr>\n",
       "      <th>4</th>\n",
       "      <td>0.32924</td>\n",
       "      <td>-4.4552</td>\n",
       "      <td>4.5718</td>\n",
       "      <td>-0.98880</td>\n",
       "      <td>0</td>\n",
       "    </tr>\n",
       "  </tbody>\n",
       "</table>\n",
       "</div>"
      ],
      "text/plain": [
       "   Variance  Skewness  Curtosis  Entropy  Class\n",
       "0   3.62160    8.6661   -2.8073 -0.44699      0\n",
       "1   4.54590    8.1674   -2.4586 -1.46210      0\n",
       "2   3.86600   -2.6383    1.9242  0.10645      0\n",
       "3   3.45660    9.5228   -4.0112 -3.59440      0\n",
       "4   0.32924   -4.4552    4.5718 -0.98880      0"
      ]
     },
     "execution_count": 19,
     "metadata": {},
     "output_type": "execute_result"
    }
   ],
   "source": [
    "#importing dataset\n",
    "banknote_df = pd.read_csv(r\"C:\\Users\\Zachary_B\\Desktop\\Dataset\\banknote.csv\")\n",
    "\n",
    "#displaying dataset header\n",
    "banknote_df.head()"
   ]
  },
  {
   "cell_type": "code",
   "execution_count": 22,
   "id": "c90f209d-4cb3-4f0c-9559-f6a4cccc9284",
   "metadata": {},
   "outputs": [],
   "source": [
    "# dividing data into features and labels\n",
    "X = banknote_df.drop([\"Class\"], axis = 1)\n",
    "y = banknote_df.filter([\"Class\"], axis = 1)"
   ]
  },
  {
   "cell_type": "code",
   "execution_count": 23,
   "id": "dd013b21-9ca9-4c91-b98e-2892913f00b4",
   "metadata": {},
   "outputs": [],
   "source": [
    "#dividing data into 80-20% training and test sets\n",
    "from sklearn.model_selection import train_test_split\n",
    "\n",
    "X_train, X_test, y_train, y_test = train_test_split(X, y, test_size=0.20, random_state=0)"
   ]
  },
  {
   "cell_type": "code",
   "execution_count": 24,
   "id": "c43b7779-58b5-42f6-971e-333cb029fb4e",
   "metadata": {},
   "outputs": [],
   "source": [
    "#applying scaling on training and test data\n",
    "from sklearn.preprocessing import StandardScaler\n",
    "sc = StandardScaler()\n",
    "X_train = sc.fit_transform(X_train)\n",
    "X_test = sc.transform (X_test)"
   ]
  },
  {
   "cell_type": "markdown",
   "id": "5abbd3b0-b65c-48d4-82dc-eaf95f50a3fc",
   "metadata": {},
   "source": [
    "To apply LDA via Sklearn, all you have to do is import the\n",
    "LinearDiscriminantAnalysis class from the Sklearn.decomposition module. Next, to\n",
    "apply LDA to the training set, pass the training set to the fit_tansform() method of\n",
    "the LDA class object. To apply LDA on the test set, pass the the LDA class object. To apply LDA on the test set, pass the test set to the\n",
    "transform() method of the LDA class object. This is shown in the following script."
   ]
  },
  {
   "cell_type": "code",
   "execution_count": 28,
   "id": "0b70225f-1043-469e-a568-27a7e2ad3b5c",
   "metadata": {},
   "outputs": [],
   "source": [
    "#importing LDA class\n",
    "from sklearn.discriminant_analysis import LinearDiscriminantAnalysis as LDA\n",
    "\n",
    "\n",
    "#creating object of the LDA class\n",
    "lda = LDA()\n",
    "\n",
    "#training PCA model on training data\n",
    "\n",
    "#.values will give the values in a numpy array (shape: (n,1))\n",
    "#.ravel will convert that array shape to (n, ) (i.e. flatten it)\n",
    "X_train = lda.fit_transform(X_train, y_train.values.ravel())\n",
    "\n",
    "#making predictions on test data\n",
    "X_test = lda.transform(X_test)"
   ]
  },
  {
   "cell_type": "code",
   "execution_count": 29,
   "id": "72ffa2c0-dd76-4f2a-b4e2-4be8fa879e48",
   "metadata": {},
   "outputs": [
    {
     "name": "stdout",
     "output_type": "stream",
     "text": [
      "[1.]\n"
     ]
    }
   ],
   "source": [
    "#printing variance ratios\n",
    "variance_ratios = lda.explained_variance_ratio_\n",
    "print (variance_ratios)"
   ]
  },
  {
   "cell_type": "markdown",
   "id": "8b4e48b9-7bd9-4d57-9337-b2f126fe6f73",
   "metadata": {},
   "source": [
    "The above output shows that even with one component, the maximum variance can\n",
    "be achieved.\n",
    "Next, we select only a single component from our dataset using LDA. To do so,\n",
    "you have to pass 1 as the attribute value for the n_components attribute of the LDA\n",
    "class, as shown below"
   ]
  },
  {
   "cell_type": "code",
   "execution_count": 31,
   "id": "bae3ff15-3756-42e6-92a9-1e3cc2c6fc4e",
   "metadata": {},
   "outputs": [],
   "source": [
    "#creating object of the LDA class\n",
    "lda = LDA(n_components = 1)\n",
    "\n",
    "#training PCA model on training data\n",
    "X_train = lda.fit_transform(X_train, y_train.values.ravel())\n",
    "\n",
    "#making predictions on test data\n",
    "X_test = lda.transform(X_test)"
   ]
  },
  {
   "cell_type": "markdown",
   "id": "b6828f65-8d90-49be-badc-044a1725430a",
   "metadata": {},
   "source": [
    "Next, we will try to class whether or not a banknote is fake using a single feature.\n",
    "We will use the LogisticRegression algorithm for that. This is shown in the\n",
    "following script."
   ]
  },
  {
   "cell_type": "code",
   "execution_count": 33,
   "id": "b385682b-c791-4a42-8422-4af3b52f2787",
   "metadata": {},
   "outputs": [
    {
     "name": "stdout",
     "output_type": "stream",
     "text": [
      "0.9890909090909091\n"
     ]
    }
   ],
   "source": [
    "#making predictions using logistic regression\n",
    "from sklearn.linear_model import LogisticRegression\n",
    "\n",
    "#training the logistic regression model\n",
    "lg = LogisticRegression()\n",
    "lg.fit(X_train, y_train.values.ravel())\n",
    "\n",
    "# Predicting the Test set results\n",
    "y_pred = lg.predict(X_test)\n",
    "\n",
    "#evaluating results\n",
    "\n",
    "from sklearn.metrics import accuracy_score\n",
    "\n",
    "print (accuracy_score(y_test, y_pred))"
   ]
  },
  {
   "cell_type": "markdown",
   "id": "1986b9e8-7473-4c63-8551-449c8c572835",
   "metadata": {},
   "source": [
    "The output shows that even with a single feature, we are able to correctly predict\n",
    "whether or not a banknote is fake with 98.90 percent accuracy."
   ]
  }
 ],
 "metadata": {
  "colab": {
   "name": "Dimensionality _Reduction.ipynb",
   "provenance": []
  },
  "kernelspec": {
   "display_name": "Python 3",
   "language": "python",
   "name": "python3"
  },
  "language_info": {
   "codemirror_mode": {
    "name": "ipython",
    "version": 3
   },
   "file_extension": ".py",
   "mimetype": "text/x-python",
   "name": "python",
   "nbconvert_exporter": "python",
   "pygments_lexer": "ipython3",
   "version": "3.8.8"
  }
 },
 "nbformat": 4,
 "nbformat_minor": 5
}
